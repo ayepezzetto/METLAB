{
 "cells": [
  {
   "attachments": {
    "868dfe0e-a417-47c8-8901-79e145c502c1.png": {
     "image/png": "[encoded data removed]"
    }
   },
   "cell_type": "markdown",
   "metadata": {
    "id": "DR1GOg9sfksp"
   },
   "source": [
    "![image.png](attachment:868dfe0e-a417-47c8-8901-79e145c502c1.png)\n",
    "\n",
    " ***METLAB-GRUPO-1***\n",
    " \n",
    "\n",
    " \n",
    "<a id=\"ref7\"></a>\n",
    "### **Tabla de Contenido**\n",
    "\n",
    "* <p><a href =\"#ref1\" > 1) Descripción del Problema </a></p>\n",
    "* <p><a href =\"#ref2\" > 2) Descripción de los datos </a></p>\n",
    "* <p><a href =\"#ref3\" > 3) Depuración de los datos </a></p>\n",
    "* <p><a href =\"#ref4\" > 4) Análisis exploratorio y descriptivo</a></p>\n",
    "* <p><a href =\"#ref5\" > 5) Modelación </a></p>\n",
    "* <p><a href =\"#ref6\" > 6) Evaluación de Modelos </a></p>\n",
    "* <p><a href =\"#ref8\" > 7) Conclusión</a></p>\n",
    "\n",
    "\n",
    "\n",
    "*AGOSTO 2022*\n",
    "\n",
    "<img src=\"https://m.media-amazon.com/images/I/41fl78jphsL.jpg\" width=300, align =\"center\">"
   ]
  },
  {
   "cell_type": "markdown",
   "metadata": {},
   "source": [
    "* <p><a href =\"#ref7\"> <font color=orange size=3> Inicio </font> </a></p>"
   ]
  },
  {
   "cell_type": "markdown",
   "metadata": {
    "id": "IHPHC-5ZiwSw"
   },
   "source": [
    "<a id=\"ref1\"></a>\n",
    "# 1) **Descripción del Problema**\n",
    "\n",
    "\n",
    "\n",
    "En esta competencia, su tarea es predecir si un pasajero fue transportado a una dimensión alternativa durante la colisión de la nave espacial Titanic con la anomalía del espacio-tiempo. Para ayudarlo a hacer estas predicciones, se le da un conjunto de registros personales recuperados del sistema informático dañado de la nave.\n",
    "\n",
    "#### ***Descripcion de archivo de Entrenamiento y Test***\n",
    "\n",
    "El archivo ***train.csv*** esta compuesto por los registros personales de aproximadamente dos tercios alrededor de 8700 pasajeros, que se utilizarán como datos de entrenamiento.\n",
    "\n",
    "\n",
    "El archivo ***test.csv*** son los registros personales para el tercio restante alrededor de 4300 pasajeros, que se utilizarán como datos de prueba.\n",
    "\n",
    "##### *Su tarea es predecir el valor de para los pasajeros en este conjunto. Transported*\n",
    "\n",
    "#### **Descripciones de campos**\n",
    "\n",
    "**PassengerId** - Un ID único para cada pasajero. Cada ID toma la forma donde indica un grupo con el que viaja el pasajero y es su número dentro del grupo. Las personas en un grupo a menudo son miembros de la familia, pero no siempre. \n",
    "\n",
    "**HomePlanet** - El lugar del que partió el pasajero, típicamente su lugar de residencia permanente.\n",
    "\n",
    "**CryoSleep** - Indica si el pasajero eligió ser puesto en animación suspendida durante la duración del viaje. Los pasajeros en criosueño están confinados en sus cabinas.\n",
    "\n",
    "**Cabin** - El número de cabina donde se aloja el pasajero. Toma la forma deck/num/side, donde side puede ser ya sea P para babor o S para estribor.\n",
    "\n",
    "**Destination** - El planeta al que el pasajero desembarcará.\n",
    "\n",
    "**Age** - La edad del pasajero.\n",
    "\n",
    "**VIP** - Si el pasajero ha pagado por un servicio VIP especial durante el viaje.\n",
    "\n",
    "**RoomService**, **FoodCourt**, **ShoppingMall,** **Spa**, **VRDeck** - Registran el monto que el pasajero a gastado en cada una de estas comodidades a las que tiene acceso, de acuerdo al villete que compro para la nave espacial Titanic.\n",
    "\n",
    "**Name** - El nombre y apellidos del pasajero.\n",
    "\n",
    "### **Variable Objetivo**\n",
    "\n",
    "**Transported** - Si el pasajero fue transportado por error a otra dimensión. 0 No fue transportado, 1 Transportado. Este es el objetivo, la columna que estás tratando de predecir.\n",
    "\n",
    "### **Descripcion de archivo Predicciones**\n",
    "El resultado de las predicciones para cada pasajero, Verdadero o Falso; se cargan en el archivo ***sample_submission.csv*** que se envia a la competencia y tiene el siguiente formato\n",
    "\n",
    "**PassengerId** - Id para cada pasajero en el conjunto de prueba.\n",
    "\n",
    "**Transported** - El objetivo. Para cada pasajero, prediga True o False\n"
   ]
  },
  {
   "cell_type": "markdown",
   "metadata": {
    "id": "PkdGuQUbmD4c"
   },
   "source": [
    "<a id=\"ref2\"></a>\n",
    "# 2) **Descripción de los datos**\n",
    "\n",
    "### **Librerias**"
   ]
  },
  {
   "cell_type": "code",
   "execution_count": 1,
   "metadata": {
    "colab": {
     "base_uri": "https://localhost:8080/"
    },
    "executionInfo": {
     "elapsed": 37789,
     "status": "ok",
     "timestamp": 1656248687478,
     "user": {
      "displayName": "Ayelen Pezzetto",
      "userId": "10899333786361795465"
     },
     "user_tz": 180
    },
    "id": "DaWC1ep6Ycjw",
    "outputId": "f2d1003c-e87f-426d-dd91-3fcbe5129f63"
   },
   "outputs": [],
   "source": [
    "## Tratamiento de datos\n",
    "## Tratamiento de datos\n",
    "import pandas as pd\n",
    "import numpy as np\n",
    "# Graficos\n",
    "import matplotlib.pyplot as plt\n",
    "import seaborn as sns\n",
    "# Estadisticas\n",
    "from scipy.stats import chi2_contingency # Probar dependencia estadistica entre variables categoricas\n",
    "# Tratamientos de datos nulos\n",
    "import missingno as msno\n",
    "# Preprocesado y modelado\n",
    "from sklearn.model_selection import train_test_split\n",
    "from sklearn.model_selection import ParameterGrid\n",
    "from sklearn.model_selection import GridSearchCV\n",
    "from sklearn.model_selection import RepeatedKFold\n",
    "# Configuración warnings\n",
    "import warnings\n",
    "warnings.filterwarnings('ignore')\n",
    "pd.options.display.float_format = '{:.2f}'.format # quitar notacion cientifica\n",
    "# from google.colab import drive\n",
    "# drive.mount('/content/drive')"
   ]
  },
  {
   "cell_type": "markdown",
   "metadata": {
    "id": "g_rLTQHynuv3"
   },
   "source": [
    "## **Carga de datos**"
   ]
  },
  {
   "cell_type": "code",
   "execution_count": 2,
   "metadata": {},
   "outputs": [],
   "source": [
    "df = pd.read_csv('train.csv',sep=',')"
   ]
  },
  {
   "cell_type": "code",
   "execution_count": 3,
   "metadata": {},
   "outputs": [
    {
     "data": {
      "text/plain": [
       "(8693, 14)"
      ]
     },
     "execution_count": 3,
     "metadata": {},
     "output_type": "execute_result"
    }
   ],
   "source": [
    "df.shape"
   ]
  },
  {
   "cell_type": "markdown",
   "metadata": {},
   "source": [
    "Quiere decir que tenemos 8693 datos con 14 variables tomadas y la variable obejtivo o target"
   ]
  },
  {
   "cell_type": "code",
   "execution_count": 4,
   "metadata": {},
   "outputs": [
    {
     "data": {
      "text/html": [
       "<div>\n",
       "<style scoped>\n",
       "    .dataframe tbody tr th:only-of-type {\n",
       "        vertical-align: middle;\n",
       "    }\n",
       "\n",
       "    .dataframe tbody tr th {\n",
       "        vertical-align: top;\n",
       "    }\n",
       "\n",
       "    .dataframe thead th {\n",
       "        text-align: right;\n",
       "    }\n",
       "</style>\n",
       "<table border=\"1\" class=\"dataframe\">\n",
       "  <thead>\n",
       "    <tr style=\"text-align: right;\">\n",
       "      <th></th>\n",
       "      <th>PassengerId</th>\n",
       "      <th>HomePlanet</th>\n",
       "      <th>CryoSleep</th>\n",
       "      <th>Cabin</th>\n",
       "      <th>Destination</th>\n",
       "      <th>Age</th>\n",
       "      <th>VIP</th>\n",
       "      <th>RoomService</th>\n",
       "      <th>FoodCourt</th>\n",
       "      <th>ShoppingMall</th>\n",
       "      <th>Spa</th>\n",
       "      <th>VRDeck</th>\n",
       "      <th>Name</th>\n",
       "      <th>Transported</th>\n",
       "    </tr>\n",
       "  </thead>\n",
       "  <tbody>\n",
       "    <tr>\n",
       "      <th>0</th>\n",
       "      <td>0001_01</td>\n",
       "      <td>Europa</td>\n",
       "      <td>False</td>\n",
       "      <td>B/0/P</td>\n",
       "      <td>TRAPPIST-1e</td>\n",
       "      <td>39.00</td>\n",
       "      <td>False</td>\n",
       "      <td>0.00</td>\n",
       "      <td>0.00</td>\n",
       "      <td>0.00</td>\n",
       "      <td>0.00</td>\n",
       "      <td>0.00</td>\n",
       "      <td>Maham Ofracculy</td>\n",
       "      <td>False</td>\n",
       "    </tr>\n",
       "    <tr>\n",
       "      <th>1</th>\n",
       "      <td>0002_01</td>\n",
       "      <td>Earth</td>\n",
       "      <td>False</td>\n",
       "      <td>F/0/S</td>\n",
       "      <td>TRAPPIST-1e</td>\n",
       "      <td>24.00</td>\n",
       "      <td>False</td>\n",
       "      <td>109.00</td>\n",
       "      <td>9.00</td>\n",
       "      <td>25.00</td>\n",
       "      <td>549.00</td>\n",
       "      <td>44.00</td>\n",
       "      <td>Juanna Vines</td>\n",
       "      <td>True</td>\n",
       "    </tr>\n",
       "    <tr>\n",
       "      <th>2</th>\n",
       "      <td>0003_01</td>\n",
       "      <td>Europa</td>\n",
       "      <td>False</td>\n",
       "      <td>A/0/S</td>\n",
       "      <td>TRAPPIST-1e</td>\n",
       "      <td>58.00</td>\n",
       "      <td>True</td>\n",
       "      <td>43.00</td>\n",
       "      <td>3576.00</td>\n",
       "      <td>0.00</td>\n",
       "      <td>6715.00</td>\n",
       "      <td>49.00</td>\n",
       "      <td>Altark Susent</td>\n",
       "      <td>False</td>\n",
       "    </tr>\n",
       "    <tr>\n",
       "      <th>3</th>\n",
       "      <td>0003_02</td>\n",
       "      <td>Europa</td>\n",
       "      <td>False</td>\n",
       "      <td>A/0/S</td>\n",
       "      <td>TRAPPIST-1e</td>\n",
       "      <td>33.00</td>\n",
       "      <td>False</td>\n",
       "      <td>0.00</td>\n",
       "      <td>1283.00</td>\n",
       "      <td>371.00</td>\n",
       "      <td>3329.00</td>\n",
       "      <td>193.00</td>\n",
       "      <td>Solam Susent</td>\n",
       "      <td>False</td>\n",
       "    </tr>\n",
       "    <tr>\n",
       "      <th>4</th>\n",
       "      <td>0004_01</td>\n",
       "      <td>Earth</td>\n",
       "      <td>False</td>\n",
       "      <td>F/1/S</td>\n",
       "      <td>TRAPPIST-1e</td>\n",
       "      <td>16.00</td>\n",
       "      <td>False</td>\n",
       "      <td>303.00</td>\n",
       "      <td>70.00</td>\n",
       "      <td>151.00</td>\n",
       "      <td>565.00</td>\n",
       "      <td>2.00</td>\n",
       "      <td>Willy Santantines</td>\n",
       "      <td>True</td>\n",
       "    </tr>\n",
       "  </tbody>\n",
       "</table>\n",
       "</div>"
      ],
      "text/plain": [
       "  PassengerId HomePlanet CryoSleep  Cabin  Destination   Age    VIP  \\\n",
       "0     0001_01     Europa     False  B/0/P  TRAPPIST-1e 39.00  False   \n",
       "1     0002_01      Earth     False  F/0/S  TRAPPIST-1e 24.00  False   \n",
       "2     0003_01     Europa     False  A/0/S  TRAPPIST-1e 58.00   True   \n",
       "3     0003_02     Europa     False  A/0/S  TRAPPIST-1e 33.00  False   \n",
       "4     0004_01      Earth     False  F/1/S  TRAPPIST-1e 16.00  False   \n",
       "\n",
       "   RoomService  FoodCourt  ShoppingMall     Spa  VRDeck               Name  \\\n",
       "0         0.00       0.00          0.00    0.00    0.00    Maham Ofracculy   \n",
       "1       109.00       9.00         25.00  549.00   44.00       Juanna Vines   \n",
       "2        43.00    3576.00          0.00 6715.00   49.00      Altark Susent   \n",
       "3         0.00    1283.00        371.00 3329.00  193.00       Solam Susent   \n",
       "4       303.00      70.00        151.00  565.00    2.00  Willy Santantines   \n",
       "\n",
       "   Transported  \n",
       "0        False  \n",
       "1         True  \n",
       "2        False  \n",
       "3        False  \n",
       "4         True  "
      ]
     },
     "execution_count": 4,
     "metadata": {},
     "output_type": "execute_result"
    }
   ],
   "source": [
    "df.head()"
   ]
  },
  {
   "cell_type": "markdown",
   "metadata": {},
   "source": [
    "## **Exploración de datos**\n",
    "\n",
    "Analizamos la distribución de los datos según la categoría 'Transported':"
   ]
  },
  {
   "cell_type": "code",
   "execution_count": 5,
   "metadata": {},
   "outputs": [
    {
     "data": {
      "image/png": "[encoded data removed]",
      "text/plain": [
       "<Figure size 504x432 with 1 Axes>"
      ]
     },
     "metadata": {},
     "output_type": "display_data"
    }
   ],
   "source": [
    "import seaborn as sns\n",
    "sns.set(font_scale=1.4)\n",
    "sns.set_theme(style=\"whitegrid\")\n",
    "\n",
    "df['Transported'].value_counts().plot(kind='bar', figsize=(7, 6), rot=0)\n",
    "#sns.countplot(x='Transported', data=df, palette='hls')\n",
    "plt.title(\"Frecuencia por cantidad de observaciones\", fontsize='x-large')\n",
    "plt.xlabel(\"Clase\")\n",
    "plt.ylabel(\"Cantidad de observaciones\");\n",
    "plt.show()\n"
   ]
  },
  {
   "cell_type": "code",
   "execution_count": 6,
   "metadata": {},
   "outputs": [
    {
     "data": {
      "text/plain": [
       "True     4378\n",
       "False    4315\n",
       "Name: Transported, dtype: int64"
      ]
     },
     "execution_count": 6,
     "metadata": {},
     "output_type": "execute_result"
    }
   ],
   "source": [
    "df['Transported'].value_counts()"
   ]
  },
  {
   "cell_type": "code",
   "execution_count": 7,
   "metadata": {},
   "outputs": [
    {
     "data": {
      "text/plain": [
       "True    50.36\n",
       "False   49.64\n",
       "Name: Transported, dtype: float64"
      ]
     },
     "execution_count": 7,
     "metadata": {},
     "output_type": "execute_result"
    }
   ],
   "source": [
    "# Frecuencia relativa  \n",
    "100 * df['Transported'].value_counts() / len(df['Transported'])"
   ]
  },
  {
   "cell_type": "markdown",
   "metadata": {},
   "source": [
    "Podemos ver que las clases estan balanceadas. Es importante notar esto debido que el desbalanceo en la variable target a predecir, por lo general afecta a los algoritmos en su proceso de generalización de la información y perjudicando a las clases minoritarias."
   ]
  },
  {
   "cell_type": "markdown",
   "metadata": {},
   "source": [
    "Analizamos las principales propiedades estadísticas de todas las características cuantitativas:"
   ]
  },
  {
   "cell_type": "code",
   "execution_count": 8,
   "metadata": {
    "colab": {
     "base_uri": "https://localhost:8080/",
     "height": 364
    },
    "executionInfo": {
     "elapsed": 2486,
     "status": "ok",
     "timestamp": 1656162409992,
     "user": {
      "displayName": "Ayelen Pezzetto",
      "userId": "10899333786361795465"
     },
     "user_tz": 180
    },
    "id": "57M1zsRn-MA-",
    "outputId": "4bef2ed3-a962-4c0e-f26d-500967b38847"
   },
   "outputs": [
    {
     "data": {
      "text/html": [
       "<div>\n",
       "<style scoped>\n",
       "    .dataframe tbody tr th:only-of-type {\n",
       "        vertical-align: middle;\n",
       "    }\n",
       "\n",
       "    .dataframe tbody tr th {\n",
       "        vertical-align: top;\n",
       "    }\n",
       "\n",
       "    .dataframe thead th {\n",
       "        text-align: right;\n",
       "    }\n",
       "</style>\n",
       "<table border=\"1\" class=\"dataframe\">\n",
       "  <thead>\n",
       "    <tr style=\"text-align: right;\">\n",
       "      <th></th>\n",
       "      <th>Age</th>\n",
       "      <th>RoomService</th>\n",
       "      <th>FoodCourt</th>\n",
       "      <th>ShoppingMall</th>\n",
       "      <th>Spa</th>\n",
       "      <th>VRDeck</th>\n",
       "    </tr>\n",
       "  </thead>\n",
       "  <tbody>\n",
       "    <tr>\n",
       "      <th>count</th>\n",
       "      <td>8514.00</td>\n",
       "      <td>8512.00</td>\n",
       "      <td>8510.00</td>\n",
       "      <td>8485.00</td>\n",
       "      <td>8510.00</td>\n",
       "      <td>8505.00</td>\n",
       "    </tr>\n",
       "    <tr>\n",
       "      <th>mean</th>\n",
       "      <td>28.83</td>\n",
       "      <td>224.69</td>\n",
       "      <td>458.08</td>\n",
       "      <td>173.73</td>\n",
       "      <td>311.14</td>\n",
       "      <td>304.85</td>\n",
       "    </tr>\n",
       "    <tr>\n",
       "      <th>std</th>\n",
       "      <td>14.49</td>\n",
       "      <td>666.72</td>\n",
       "      <td>1611.49</td>\n",
       "      <td>604.70</td>\n",
       "      <td>1136.71</td>\n",
       "      <td>1145.72</td>\n",
       "    </tr>\n",
       "    <tr>\n",
       "      <th>min</th>\n",
       "      <td>0.00</td>\n",
       "      <td>0.00</td>\n",
       "      <td>0.00</td>\n",
       "      <td>0.00</td>\n",
       "      <td>0.00</td>\n",
       "      <td>0.00</td>\n",
       "    </tr>\n",
       "    <tr>\n",
       "      <th>25%</th>\n",
       "      <td>19.00</td>\n",
       "      <td>0.00</td>\n",
       "      <td>0.00</td>\n",
       "      <td>0.00</td>\n",
       "      <td>0.00</td>\n",
       "      <td>0.00</td>\n",
       "    </tr>\n",
       "    <tr>\n",
       "      <th>50%</th>\n",
       "      <td>27.00</td>\n",
       "      <td>0.00</td>\n",
       "      <td>0.00</td>\n",
       "      <td>0.00</td>\n",
       "      <td>0.00</td>\n",
       "      <td>0.00</td>\n",
       "    </tr>\n",
       "    <tr>\n",
       "      <th>75%</th>\n",
       "      <td>38.00</td>\n",
       "      <td>47.00</td>\n",
       "      <td>76.00</td>\n",
       "      <td>27.00</td>\n",
       "      <td>59.00</td>\n",
       "      <td>46.00</td>\n",
       "    </tr>\n",
       "    <tr>\n",
       "      <th>max</th>\n",
       "      <td>79.00</td>\n",
       "      <td>14327.00</td>\n",
       "      <td>29813.00</td>\n",
       "      <td>23492.00</td>\n",
       "      <td>22408.00</td>\n",
       "      <td>24133.00</td>\n",
       "    </tr>\n",
       "  </tbody>\n",
       "</table>\n",
       "</div>"
      ],
      "text/plain": [
       "          Age  RoomService  FoodCourt  ShoppingMall      Spa   VRDeck\n",
       "count 8514.00      8512.00    8510.00       8485.00  8510.00  8505.00\n",
       "mean    28.83       224.69     458.08        173.73   311.14   304.85\n",
       "std     14.49       666.72    1611.49        604.70  1136.71  1145.72\n",
       "min      0.00         0.00       0.00          0.00     0.00     0.00\n",
       "25%     19.00         0.00       0.00          0.00     0.00     0.00\n",
       "50%     27.00         0.00       0.00          0.00     0.00     0.00\n",
       "75%     38.00        47.00      76.00         27.00    59.00    46.00\n",
       "max     79.00     14327.00   29813.00      23492.00 22408.00 24133.00"
      ]
     },
     "execution_count": 8,
     "metadata": {},
     "output_type": "execute_result"
    }
   ],
   "source": [
    "## Principales indicadores estadisticos de las variables numericas\n",
    "df.describe()"
   ]
  },
  {
   "cell_type": "markdown",
   "metadata": {},
   "source": [
    "Observamos el tipo de dato dentro de cada categoría:"
   ]
  },
  {
   "cell_type": "code",
   "execution_count": 9,
   "metadata": {},
   "outputs": [
    {
     "name": "stdout",
     "output_type": "stream",
     "text": [
      "<class 'pandas.core.frame.DataFrame'>\n",
      "RangeIndex: 8693 entries, 0 to 8692\n",
      "Data columns (total 14 columns):\n",
      " #   Column        Non-Null Count  Dtype  \n",
      "---  ------        --------------  -----  \n",
      " 0   PassengerId   8693 non-null   object \n",
      " 1   HomePlanet    8492 non-null   object \n",
      " 2   CryoSleep     8476 non-null   object \n",
      " 3   Cabin         8494 non-null   object \n",
      " 4   Destination   8511 non-null   object \n",
      " 5   Age           8514 non-null   float64\n",
      " 6   VIP           8490 non-null   object \n",
      " 7   RoomService   8512 non-null   float64\n",
      " 8   FoodCourt     8510 non-null   float64\n",
      " 9   ShoppingMall  8485 non-null   float64\n",
      " 10  Spa           8510 non-null   float64\n",
      " 11  VRDeck        8505 non-null   float64\n",
      " 12  Name          8493 non-null   object \n",
      " 13  Transported   8693 non-null   bool   \n",
      "dtypes: bool(1), float64(6), object(7)\n",
      "memory usage: 891.5+ KB\n"
     ]
    }
   ],
   "source": [
    "df.info()"
   ]
  },
  {
   "cell_type": "markdown",
   "metadata": {},
   "source": [
    "Se puede observar que en solo en las variables PassengerId y Transported (target) no hay valores faltantes. Es por esto que mas adelante deberemos decidir que hacer con esto."
   ]
  },
  {
   "cell_type": "code",
   "execution_count": 10,
   "metadata": {},
   "outputs": [
    {
     "name": "stdout",
     "output_type": "stream",
     "text": [
      "Variables:\n",
      " ['PassengerId', 'HomePlanet', 'CryoSleep', 'Cabin', 'Destination', 'Age', 'VIP', 'RoomService', 'FoodCourt', 'ShoppingMall', 'Spa', 'VRDeck', 'Name', 'Transported']\n",
      "Hay 6 variables numéricas decimales\n",
      "Hay 0 variables numéricas enteras\n",
      "Hay 7 variables categóricas\n",
      "Hay 1 variables boleanas\n"
     ]
    }
   ],
   "source": [
    "variables =df.columns.tolist()\n",
    "print('Variables:\\n' ,variables)\n",
    "print('Hay',np.count_nonzero(df.dtypes=='float64'),'variables numéricas decimales')\n",
    "print('Hay',np.count_nonzero(df.dtypes=='int64'),'variables numéricas enteras')\n",
    "print('Hay',np.count_nonzero(df.dtypes=='object'),'variables categóricas')\n",
    "print('Hay',np.count_nonzero(df.dtypes=='bool'),'variables boleanas')"
   ]
  },
  {
   "cell_type": "markdown",
   "metadata": {},
   "source": [
    "Luego, observamos distintos valores estadísticos del parámetro `Transported` del set de datos.\n",
    "\n",
    "**MEDIA:**"
   ]
  },
  {
   "cell_type": "code",
   "execution_count": 11,
   "metadata": {},
   "outputs": [
    {
     "data": {
      "text/html": [
       "<div>\n",
       "<style scoped>\n",
       "    .dataframe tbody tr th:only-of-type {\n",
       "        vertical-align: middle;\n",
       "    }\n",
       "\n",
       "    .dataframe tbody tr th {\n",
       "        vertical-align: top;\n",
       "    }\n",
       "\n",
       "    .dataframe thead th {\n",
       "        text-align: right;\n",
       "    }\n",
       "</style>\n",
       "<table border=\"1\" class=\"dataframe\">\n",
       "  <thead>\n",
       "    <tr style=\"text-align: right;\">\n",
       "      <th></th>\n",
       "      <th>Age</th>\n",
       "      <th>RoomService</th>\n",
       "      <th>FoodCourt</th>\n",
       "      <th>ShoppingMall</th>\n",
       "      <th>Spa</th>\n",
       "      <th>VRDeck</th>\n",
       "    </tr>\n",
       "    <tr>\n",
       "      <th>Transported</th>\n",
       "      <th></th>\n",
       "      <th></th>\n",
       "      <th></th>\n",
       "      <th></th>\n",
       "      <th></th>\n",
       "      <th></th>\n",
       "    </tr>\n",
       "  </thead>\n",
       "  <tbody>\n",
       "    <tr>\n",
       "      <th>False</th>\n",
       "      <td>29.92</td>\n",
       "      <td>389.27</td>\n",
       "      <td>382.62</td>\n",
       "      <td>167.57</td>\n",
       "      <td>564.38</td>\n",
       "      <td>543.63</td>\n",
       "    </tr>\n",
       "    <tr>\n",
       "      <th>True</th>\n",
       "      <td>27.75</td>\n",
       "      <td>63.10</td>\n",
       "      <td>532.69</td>\n",
       "      <td>179.83</td>\n",
       "      <td>61.68</td>\n",
       "      <td>69.15</td>\n",
       "    </tr>\n",
       "  </tbody>\n",
       "</table>\n",
       "</div>"
      ],
      "text/plain": [
       "              Age  RoomService  FoodCourt  ShoppingMall    Spa  VRDeck\n",
       "Transported                                                           \n",
       "False       29.92       389.27     382.62        167.57 564.38  543.63\n",
       "True        27.75        63.10     532.69        179.83  61.68   69.15"
      ]
     },
     "execution_count": 11,
     "metadata": {},
     "output_type": "execute_result"
    }
   ],
   "source": [
    "df.groupby('Transported').mean()"
   ]
  },
  {
   "cell_type": "markdown",
   "metadata": {},
   "source": [
    "Se puede observar una amplia diferencia entre la media de ambos grupos mayormente en los atributos: RoomService, FoodCourt, Spa y VRDeck."
   ]
  },
  {
   "cell_type": "markdown",
   "metadata": {},
   "source": [
    "**DESVÍO ESTANDAR:**"
   ]
  },
  {
   "cell_type": "code",
   "execution_count": 12,
   "metadata": {},
   "outputs": [
    {
     "data": {
      "text/html": [
       "<div>\n",
       "<style scoped>\n",
       "    .dataframe tbody tr th:only-of-type {\n",
       "        vertical-align: middle;\n",
       "    }\n",
       "\n",
       "    .dataframe tbody tr th {\n",
       "        vertical-align: top;\n",
       "    }\n",
       "\n",
       "    .dataframe thead th {\n",
       "        text-align: right;\n",
       "    }\n",
       "</style>\n",
       "<table border=\"1\" class=\"dataframe\">\n",
       "  <thead>\n",
       "    <tr style=\"text-align: right;\">\n",
       "      <th></th>\n",
       "      <th>Age</th>\n",
       "      <th>RoomService</th>\n",
       "      <th>FoodCourt</th>\n",
       "      <th>ShoppingMall</th>\n",
       "      <th>Spa</th>\n",
       "      <th>VRDeck</th>\n",
       "    </tr>\n",
       "    <tr>\n",
       "      <th>Transported</th>\n",
       "      <th></th>\n",
       "      <th></th>\n",
       "      <th></th>\n",
       "      <th></th>\n",
       "      <th></th>\n",
       "      <th></th>\n",
       "    </tr>\n",
       "  </thead>\n",
       "  <tbody>\n",
       "    <tr>\n",
       "      <th>False</th>\n",
       "      <td>13.70</td>\n",
       "      <td>875.64</td>\n",
       "      <td>1200.12</td>\n",
       "      <td>456.53</td>\n",
       "      <td>1551.36</td>\n",
       "      <td>1563.09</td>\n",
       "    </tr>\n",
       "    <tr>\n",
       "      <th>True</th>\n",
       "      <td>15.15</td>\n",
       "      <td>274.81</td>\n",
       "      <td>1931.31</td>\n",
       "      <td>722.03</td>\n",
       "      <td>262.68</td>\n",
       "      <td>291.66</td>\n",
       "    </tr>\n",
       "  </tbody>\n",
       "</table>\n",
       "</div>"
      ],
      "text/plain": [
       "              Age  RoomService  FoodCourt  ShoppingMall     Spa  VRDeck\n",
       "Transported                                                            \n",
       "False       13.70       875.64    1200.12        456.53 1551.36 1563.09\n",
       "True        15.15       274.81    1931.31        722.03  262.68  291.66"
      ]
     },
     "execution_count": 12,
     "metadata": {},
     "output_type": "execute_result"
    }
   ],
   "source": [
    "df.groupby('Transported').std()"
   ]
  },
  {
   "cell_type": "markdown",
   "metadata": {},
   "source": [
    "Se puede observar una amplia diferencia entre las desviaciones estandar de los atributos: RoomService, ShoppingMall, Spa y VRDeck."
   ]
  },
  {
   "cell_type": "code",
   "execution_count": 13,
   "metadata": {},
   "outputs": [
    {
     "name": "stdout",
     "output_type": "stream",
     "text": [
      "Transportados:\n",
      "Moda de \"Age\": 18.0\n",
      "Moda de \"RoomService\": 0.0\n",
      "Moda de \"FoodCourt\": 0.0\n",
      "Moda de \"ShoppingMall\": 0.0\n",
      "Moda de \"Spa\": 0.0\n",
      "Moda de \"VRDeck\": 0.0\n",
      "\n",
      "Transportados:\n",
      "Moda de \"Age\": 21.0\n",
      "Moda de \"RoomService\": 0.0\n",
      "Moda de \"FoodCourt\": 0.0\n",
      "Moda de \"ShoppingMall\": 0.0\n",
      "Moda de \"Spa\": 0.0\n",
      "Moda de \"VRDeck\": 0.0\n"
     ]
    }
   ],
   "source": [
    "#Transportados\n",
    "print('Transportados:')\n",
    "print('Moda de \"Age\":', df[df['Transported']==True]['Age'].mode()[0])\n",
    "print('Moda de \"RoomService\":', df[df['Transported']==True]['RoomService'].mode()[0])\n",
    "print('Moda de \"FoodCourt\":', df[df['Transported']==True]['FoodCourt'].mode()[0])\n",
    "print('Moda de \"ShoppingMall\":', df[df['Transported']==True]['ShoppingMall'].mode()[0])\n",
    "print('Moda de \"Spa\":', df[df['Transported']==True]['Spa'].mode()[0])\n",
    "print('Moda de \"VRDeck\":', df[df['Transported']==True]['VRDeck'].mode()[0])\n",
    "\n",
    "# No Transportados\n",
    "print('\\nTransportados:')\n",
    "print('Moda de \"Age\":', df[df['Transported']==False]['Age'].mode()[0])\n",
    "print('Moda de \"RoomService\":', df[df['Transported']==False]['RoomService'].mode()[0])\n",
    "print('Moda de \"FoodCourt\":', df[df['Transported']==False]['FoodCourt'].mode()[0])\n",
    "print('Moda de \"ShoppingMall\":', df[df['Transported']==False]['ShoppingMall'].mode()[0])\n",
    "print('Moda de \"Spa\":', df[df['Transported']==False]['Spa'].mode()[0])\n",
    "print('Moda de \"VRDeck\":', df[df['Transported']==False]['VRDeck'].mode()[0])"
   ]
  },
  {
   "cell_type": "markdown",
   "metadata": {},
   "source": [
    "Gráficos sobre la distribución de datos para cada variable según Transported:"
   ]
  },
  {
   "cell_type": "code",
   "execution_count": 14,
   "metadata": {},
   "outputs": [
    {
     "data": {
      "text/html": [
       "<div>\n",
       "<style scoped>\n",
       "    .dataframe tbody tr th:only-of-type {\n",
       "        vertical-align: middle;\n",
       "    }\n",
       "\n",
       "    .dataframe tbody tr th {\n",
       "        vertical-align: top;\n",
       "    }\n",
       "\n",
       "    .dataframe thead th {\n",
       "        text-align: right;\n",
       "    }\n",
       "</style>\n",
       "<table border=\"1\" class=\"dataframe\">\n",
       "  <thead>\n",
       "    <tr style=\"text-align: right;\">\n",
       "      <th></th>\n",
       "      <th>Age</th>\n",
       "      <th>RoomService</th>\n",
       "      <th>FoodCourt</th>\n",
       "      <th>ShoppingMall</th>\n",
       "      <th>Spa</th>\n",
       "      <th>VRDeck</th>\n",
       "    </tr>\n",
       "  </thead>\n",
       "  <tbody>\n",
       "    <tr>\n",
       "      <th>0</th>\n",
       "      <td>39.00</td>\n",
       "      <td>0.00</td>\n",
       "      <td>0.00</td>\n",
       "      <td>0.00</td>\n",
       "      <td>0.00</td>\n",
       "      <td>0.00</td>\n",
       "    </tr>\n",
       "    <tr>\n",
       "      <th>1</th>\n",
       "      <td>24.00</td>\n",
       "      <td>109.00</td>\n",
       "      <td>9.00</td>\n",
       "      <td>25.00</td>\n",
       "      <td>549.00</td>\n",
       "      <td>44.00</td>\n",
       "    </tr>\n",
       "    <tr>\n",
       "      <th>2</th>\n",
       "      <td>58.00</td>\n",
       "      <td>43.00</td>\n",
       "      <td>3576.00</td>\n",
       "      <td>0.00</td>\n",
       "      <td>6715.00</td>\n",
       "      <td>49.00</td>\n",
       "    </tr>\n",
       "    <tr>\n",
       "      <th>3</th>\n",
       "      <td>33.00</td>\n",
       "      <td>0.00</td>\n",
       "      <td>1283.00</td>\n",
       "      <td>371.00</td>\n",
       "      <td>3329.00</td>\n",
       "      <td>193.00</td>\n",
       "    </tr>\n",
       "    <tr>\n",
       "      <th>4</th>\n",
       "      <td>16.00</td>\n",
       "      <td>303.00</td>\n",
       "      <td>70.00</td>\n",
       "      <td>151.00</td>\n",
       "      <td>565.00</td>\n",
       "      <td>2.00</td>\n",
       "    </tr>\n",
       "    <tr>\n",
       "      <th>...</th>\n",
       "      <td>...</td>\n",
       "      <td>...</td>\n",
       "      <td>...</td>\n",
       "      <td>...</td>\n",
       "      <td>...</td>\n",
       "      <td>...</td>\n",
       "    </tr>\n",
       "    <tr>\n",
       "      <th>8688</th>\n",
       "      <td>41.00</td>\n",
       "      <td>0.00</td>\n",
       "      <td>6819.00</td>\n",
       "      <td>0.00</td>\n",
       "      <td>1643.00</td>\n",
       "      <td>74.00</td>\n",
       "    </tr>\n",
       "    <tr>\n",
       "      <th>8689</th>\n",
       "      <td>18.00</td>\n",
       "      <td>0.00</td>\n",
       "      <td>0.00</td>\n",
       "      <td>0.00</td>\n",
       "      <td>0.00</td>\n",
       "      <td>0.00</td>\n",
       "    </tr>\n",
       "    <tr>\n",
       "      <th>8690</th>\n",
       "      <td>26.00</td>\n",
       "      <td>0.00</td>\n",
       "      <td>0.00</td>\n",
       "      <td>1872.00</td>\n",
       "      <td>1.00</td>\n",
       "      <td>0.00</td>\n",
       "    </tr>\n",
       "    <tr>\n",
       "      <th>8691</th>\n",
       "      <td>32.00</td>\n",
       "      <td>0.00</td>\n",
       "      <td>1049.00</td>\n",
       "      <td>0.00</td>\n",
       "      <td>353.00</td>\n",
       "      <td>3235.00</td>\n",
       "    </tr>\n",
       "    <tr>\n",
       "      <th>8692</th>\n",
       "      <td>44.00</td>\n",
       "      <td>126.00</td>\n",
       "      <td>4688.00</td>\n",
       "      <td>0.00</td>\n",
       "      <td>0.00</td>\n",
       "      <td>12.00</td>\n",
       "    </tr>\n",
       "  </tbody>\n",
       "</table>\n",
       "<p>8693 rows × 6 columns</p>\n",
       "</div>"
      ],
      "text/plain": [
       "       Age  RoomService  FoodCourt  ShoppingMall     Spa  VRDeck\n",
       "0    39.00         0.00       0.00          0.00    0.00    0.00\n",
       "1    24.00       109.00       9.00         25.00  549.00   44.00\n",
       "2    58.00        43.00    3576.00          0.00 6715.00   49.00\n",
       "3    33.00         0.00    1283.00        371.00 3329.00  193.00\n",
       "4    16.00       303.00      70.00        151.00  565.00    2.00\n",
       "...    ...          ...        ...           ...     ...     ...\n",
       "8688 41.00         0.00    6819.00          0.00 1643.00   74.00\n",
       "8689 18.00         0.00       0.00          0.00    0.00    0.00\n",
       "8690 26.00         0.00       0.00       1872.00    1.00    0.00\n",
       "8691 32.00         0.00    1049.00          0.00  353.00 3235.00\n",
       "8692 44.00       126.00    4688.00          0.00    0.00   12.00\n",
       "\n",
       "[8693 rows x 6 columns]"
      ]
     },
     "execution_count": 14,
     "metadata": {},
     "output_type": "execute_result"
    }
   ],
   "source": [
    "df_numericas = df.select_dtypes(include='number')\n",
    "df_numericas"
   ]
  },
  {
   "cell_type": "code",
   "execution_count": 15,
   "metadata": {},
   "outputs": [
    {
     "name": "stdout",
     "output_type": "stream",
     "text": [
      "Age\n"
     ]
    },
    {
     "data": {
      "image/png": "[encoded data removed]",
      "text/plain": [
       "<Figure size 432x288 with 1 Axes>"
      ]
     },
     "metadata": {},
     "output_type": "display_data"
    },
    {
     "name": "stdout",
     "output_type": "stream",
     "text": [
      "RoomService\n"
     ]
    },
    {
     "data": {
      "image/png": "[encoded data removed]",
      "text/plain": [
       "<Figure size 432x288 with 1 Axes>"
      ]
     },
     "metadata": {},
     "output_type": "display_data"
    },
    {
     "name": "stdout",
     "output_type": "stream",
     "text": [
      "FoodCourt\n"
     ]
    },
    {
     "data": {
      "image/png": "[encoded data removed]",
      "text/plain": [
       "<Figure size 432x288 with 1 Axes>"
      ]
     },
     "metadata": {},
     "output_type": "display_data"
    },
    {
     "name": "stdout",
     "output_type": "stream",
     "text": [
      "ShoppingMall\n"
     ]
    },
    {
     "data": {
      "image/png": "[encoded data removed]",
      "text/plain": [
       "<Figure size 432x288 with 1 Axes>"
      ]
     },
     "metadata": {},
     "output_type": "display_data"
    },
    {
     "name": "stdout",
     "output_type": "stream",
     "text": [
      "Spa\n"
     ]
    },
    {
     "data": {
      "image/png": "[encoded data removed]",
      "text/plain": [
       "<Figure size 432x288 with 1 Axes>"
      ]
     },
     "metadata": {},
     "output_type": "display_data"
    },
    {
     "name": "stdout",
     "output_type": "stream",
     "text": [
      "VRDeck\n"
     ]
    },
    {
     "data": {
      "image/png": "[encoded data removed]",
      "text/plain": [
       "<Figure size 432x288 with 1 Axes>"
      ]
     },
     "metadata": {},
     "output_type": "display_data"
    }
   ],
   "source": [
    "# Boxplot\n",
    "for i in df_numericas:\n",
    "    print(i)\n",
    "    meanlineprops = dict(linestyle='--', linewidth=2.0, color='white')\n",
    "    sns.boxplot(x = 'Transported', y = i, data=df,color='coral', showmeans = True, meanline = True, meanprops=meanlineprops)\n",
    "    plt.show()"
   ]
  },
  {
   "cell_type": "markdown",
   "metadata": {},
   "source": []
  },
  {
   "cell_type": "code",
   "execution_count": 16,
   "metadata": {},
   "outputs": [
    {
     "name": "stdout",
     "output_type": "stream",
     "text": [
      "Age\n"
     ]
    },
    {
     "data": {
      "image/png": "[encoded data removed]",
      "text/plain": [
       "<Figure size 432x288 with 1 Axes>"
      ]
     },
     "metadata": {},
     "output_type": "display_data"
    },
    {
     "name": "stdout",
     "output_type": "stream",
     "text": [
      "RoomService\n"
     ]
    },
    {
     "data": {
      "image/png": "[encoded data removed]",
      "text/plain": [
       "<Figure size 432x288 with 1 Axes>"
      ]
     },
     "metadata": {},
     "output_type": "display_data"
    },
    {
     "name": "stdout",
     "output_type": "stream",
     "text": [
      "FoodCourt\n"
     ]
    },
    {
     "data": {
      "image/png": "[encoded data removed]",
      "text/plain": [
       "<Figure size 432x288 with 1 Axes>"
      ]
     },
     "metadata": {},
     "output_type": "display_data"
    },
    {
     "name": "stdout",
     "output_type": "stream",
     "text": [
      "ShoppingMall\n"
     ]
    },
    {
     "data": {
      "image/png": "[encoded data removed]",
      "text/plain": [
       "<Figure size 432x288 with 1 Axes>"
      ]
     },
     "metadata": {},
     "output_type": "display_data"
    },
    {
     "name": "stdout",
     "output_type": "stream",
     "text": [
      "Spa\n"
     ]
    },
    {
     "data": {
      "image/png": "[encoded data removed]",
      "text/plain": [
       "<Figure size 432x288 with 1 Axes>"
      ]
     },
     "metadata": {},
     "output_type": "display_data"
    },
    {
     "name": "stdout",
     "output_type": "stream",
     "text": [
      "VRDeck\n"
     ]
    },
    {
     "data": {
      "image/png": "[encoded data removed]",
      "text/plain": [
       "<Figure size 432x288 with 1 Axes>"
      ]
     },
     "metadata": {},
     "output_type": "display_data"
    }
   ],
   "source": [
    "flierprops = dict(markerfacecolor='0.90', markersize=5,linestyle='none')\n",
    "# Boxplot\n",
    "for i in df_numericas:\n",
    "    print(i)\n",
    "    meanlineprops = dict(linestyle='--', linewidth=2.0, color='white')\n",
    "    sns.boxplot(x = 'Transported', y = i, data=df,color='coral', showmeans = True, meanline = True, meanprops=meanlineprops,flierprops=flierprops)\n",
    "    plt.show()"
   ]
  },
  {
   "cell_type": "markdown",
   "metadata": {
    "id": "DDf9EarUp5Il"
   },
   "source": [
    "<a id=\"ref3\"></a>\n",
    "# 3) **Depuración de los datos**\n",
    "* <p><a href =\"#ref7\"> <font color=orange size=3> Inicio </font> </a></p>"
   ]
  },
  {
   "cell_type": "markdown",
   "metadata": {
    "id": "NF_Zgzsrp_fz"
   },
   "source": [
    "## **Valores Nulos**\n",
    "\n",
    "Los valores ausentes son muy importantes a la hora de crear modelos, algunos algoritmos no aceptan observaciones incompletas o bien se ven muy influenciados por ellas. Aunque la imputación de valores ausentes es parte del preprocesado y, por lo tanto, debe de aprenderse únicamente con los datos de entrenamiento, su identificación se tiene que realizar antes de separar los datos para asegurar que se establecen todas las estrategias de imputación necesarias. Para efectos de este ejercicio vamos a excluir los Valores ausentes o nulos con porcentajes mayor del 20%."
   ]
  },
  {
   "cell_type": "code",
   "execution_count": 17,
   "metadata": {},
   "outputs": [
    {
     "data": {
      "text/plain": [
       "CryoSleep       217\n",
       "ShoppingMall    208\n",
       "VIP             203\n",
       "HomePlanet      201\n",
       "Name            200\n",
       "Cabin           199\n",
       "VRDeck          188\n",
       "FoodCourt       183\n",
       "Spa             183\n",
       "Destination     182\n",
       "RoomService     181\n",
       "Age             179\n",
       "PassengerId       0\n",
       "Transported       0\n",
       "dtype: int64"
      ]
     },
     "execution_count": 17,
     "metadata": {},
     "output_type": "execute_result"
    }
   ],
   "source": [
    "df.isna().sum().sort_values(ascending=False)"
   ]
  },
  {
   "cell_type": "code",
   "execution_count": 18,
   "metadata": {
    "colab": {
     "base_uri": "https://localhost:8080/"
    },
    "executionInfo": {
     "elapsed": 414,
     "status": "ok",
     "timestamp": 1656124006702,
     "user": {
      "displayName": "Ayelen Pezzetto",
      "userId": "10899333786361795465"
     },
     "user_tz": 180
    },
    "id": "ADPjnKoMp-Zm",
    "outputId": "c67436ee-d5d4-42d8-a72f-fc8a1cac1267"
   },
   "outputs": [
    {
     "data": {
      "text/plain": [
       "CryoSleep      2.50\n",
       "ShoppingMall   2.39\n",
       "VIP            2.34\n",
       "HomePlanet     2.31\n",
       "Name           2.30\n",
       "Cabin          2.29\n",
       "VRDeck         2.16\n",
       "FoodCourt      2.11\n",
       "Spa            2.11\n",
       "Destination    2.09\n",
       "RoomService    2.08\n",
       "Age            2.06\n",
       "PassengerId    0.00\n",
       "Transported    0.00\n",
       "dtype: float64"
      ]
     },
     "execution_count": 18,
     "metadata": {},
     "output_type": "execute_result"
    }
   ],
   "source": [
    "nulos_porcentaje = (df.isna().sum())/len(df)*100\n",
    "nulos_porcentaje.sort_values(ascending=False)"
   ]
  },
  {
   "cell_type": "code",
   "execution_count": 19,
   "metadata": {
    "colab": {
     "base_uri": "https://localhost:8080/"
    },
    "executionInfo": {
     "elapsed": 347,
     "status": "ok",
     "timestamp": 1656125159346,
     "user": {
      "displayName": "Ayelen Pezzetto",
      "userId": "10899333786361795465"
     },
     "user_tz": 180
    },
    "id": "kNlbQr6wunQA",
    "outputId": "e5a70e14-a308-4343-8c28-ff5128f3fadd"
   },
   "outputs": [
    {
     "name": "stdout",
     "output_type": "stream",
     "text": [
      "Cantidad de datos ausentes: 2324\n",
      "Porcentaje de valores en nulo en todo el dataframe: 2%\n"
     ]
    }
   ],
   "source": [
    "# how many total missing values do we have?\n",
    "total_cells = np.product(df.shape)\n",
    "total_missing = df.isna().sum().sum()\n",
    "print('Cantidad de datos ausentes:',total_missing)\n",
    "# percent of data that is missing\n",
    "print('Porcentaje de valores en nulo en todo el dataframe:',\"{:.0%}\".format(total_missing/total_cells))"
   ]
  },
  {
   "cell_type": "markdown",
   "metadata": {},
   "source": [
    "Podemos ver que si bien son 2324 datos incompletos representan solo un 2% del total de datos. Veamos un grafico de como estas distribuidos"
   ]
  },
  {
   "cell_type": "code",
   "execution_count": 20,
   "metadata": {},
   "outputs": [
    {
     "data": {
      "image/png": "[encoded data removed]",
      "text/plain": [
       "<Figure size 1080x432 with 2 Axes>"
      ]
     },
     "metadata": {},
     "output_type": "display_data"
    }
   ],
   "source": [
    "#usamos sample porque da error con todo el datas\n",
    "ax = msno.matrix(df,figsize=(15, 6),fontsize=12)\n",
    "ax.tick_params('x', rotation=90)"
   ]
  },
  {
   "cell_type": "markdown",
   "metadata": {},
   "source": [
    "En este grafico podemos observar si existe sistematicidad en la perdida de datos, es decir si coinciden los \"blancos\" entre varias variables. Antes de tomar una decision respecto a los datos nulos, veamos como influye cada variable en la distribucion de la variable target."
   ]
  },
  {
   "cell_type": "markdown",
   "metadata": {},
   "source": [
    "Existen diferentes opciones para tratar con estos datos faltantes:\n",
    "1. Eliminar valores nulos \n",
    "2. Reemplazar con el valor medio los valores nulos\n",
    "3. Reemplazar con la moda los valores nulos \n",
    "4. Reemplazar con la mediana los valores nulos \n"
   ]
  },
  {
   "cell_type": "markdown",
   "metadata": {},
   "source": [
    "<a id=\"ref4\"></a>\n",
    "# 4) **Análisis exploratorio y descriptivo**\n",
    "* <p><a href =\"#ref7\"> <font color=orange size=3> Inicio </font> </a></p>"
   ]
  },
  {
   "cell_type": "code",
   "execution_count": 21,
   "metadata": {},
   "outputs": [
    {
     "name": "stdout",
     "output_type": "stream",
     "text": [
      "<class 'pandas.core.frame.DataFrame'>\n",
      "RangeIndex: 8693 entries, 0 to 8692\n",
      "Data columns (total 14 columns):\n",
      " #   Column        Non-Null Count  Dtype  \n",
      "---  ------        --------------  -----  \n",
      " 0   PassengerId   8693 non-null   object \n",
      " 1   HomePlanet    8492 non-null   object \n",
      " 2   CryoSleep     8476 non-null   object \n",
      " 3   Cabin         8494 non-null   object \n",
      " 4   Destination   8511 non-null   object \n",
      " 5   Age           8514 non-null   float64\n",
      " 6   VIP           8490 non-null   object \n",
      " 7   RoomService   8512 non-null   float64\n",
      " 8   FoodCourt     8510 non-null   float64\n",
      " 9   ShoppingMall  8485 non-null   float64\n",
      " 10  Spa           8510 non-null   float64\n",
      " 11  VRDeck        8505 non-null   float64\n",
      " 12  Name          8493 non-null   object \n",
      " 13  Transported   8693 non-null   object \n",
      "dtypes: float64(6), object(8)\n",
      "memory usage: 950.9+ KB\n"
     ]
    }
   ],
   "source": [
    "df['Transported'] = df['Transported'].astype('object')\n",
    "df.info()"
   ]
  },
  {
   "cell_type": "code",
   "execution_count": 22,
   "metadata": {},
   "outputs": [
    {
     "data": {
      "text/html": [
       "<div>\n",
       "<style scoped>\n",
       "    .dataframe tbody tr th:only-of-type {\n",
       "        vertical-align: middle;\n",
       "    }\n",
       "\n",
       "    .dataframe tbody tr th {\n",
       "        vertical-align: top;\n",
       "    }\n",
       "\n",
       "    .dataframe thead th {\n",
       "        text-align: right;\n",
       "    }\n",
       "</style>\n",
       "<table border=\"1\" class=\"dataframe\">\n",
       "  <thead>\n",
       "    <tr style=\"text-align: right;\">\n",
       "      <th></th>\n",
       "      <th>Transported</th>\n",
       "      <th>False</th>\n",
       "      <th>True</th>\n",
       "    </tr>\n",
       "  </thead>\n",
       "  <tbody>\n",
       "    <tr>\n",
       "      <th rowspan=\"8\" valign=\"top\">Age</th>\n",
       "      <th>count</th>\n",
       "      <td>4226.00</td>\n",
       "      <td>4288.00</td>\n",
       "    </tr>\n",
       "    <tr>\n",
       "      <th>mean</th>\n",
       "      <td>29.92</td>\n",
       "      <td>27.75</td>\n",
       "    </tr>\n",
       "    <tr>\n",
       "      <th>std</th>\n",
       "      <td>13.70</td>\n",
       "      <td>15.15</td>\n",
       "    </tr>\n",
       "    <tr>\n",
       "      <th>min</th>\n",
       "      <td>0.00</td>\n",
       "      <td>0.00</td>\n",
       "    </tr>\n",
       "    <tr>\n",
       "      <th>25%</th>\n",
       "      <td>21.00</td>\n",
       "      <td>18.00</td>\n",
       "    </tr>\n",
       "    <tr>\n",
       "      <th>50%</th>\n",
       "      <td>27.00</td>\n",
       "      <td>26.00</td>\n",
       "    </tr>\n",
       "    <tr>\n",
       "      <th>75%</th>\n",
       "      <td>38.00</td>\n",
       "      <td>37.00</td>\n",
       "    </tr>\n",
       "    <tr>\n",
       "      <th>max</th>\n",
       "      <td>79.00</td>\n",
       "      <td>78.00</td>\n",
       "    </tr>\n",
       "    <tr>\n",
       "      <th rowspan=\"8\" valign=\"top\">RoomService</th>\n",
       "      <th>count</th>\n",
       "      <td>4217.00</td>\n",
       "      <td>4295.00</td>\n",
       "    </tr>\n",
       "    <tr>\n",
       "      <th>mean</th>\n",
       "      <td>389.27</td>\n",
       "      <td>63.10</td>\n",
       "    </tr>\n",
       "    <tr>\n",
       "      <th>std</th>\n",
       "      <td>875.64</td>\n",
       "      <td>274.81</td>\n",
       "    </tr>\n",
       "    <tr>\n",
       "      <th>min</th>\n",
       "      <td>0.00</td>\n",
       "      <td>0.00</td>\n",
       "    </tr>\n",
       "    <tr>\n",
       "      <th>25%</th>\n",
       "      <td>0.00</td>\n",
       "      <td>0.00</td>\n",
       "    </tr>\n",
       "    <tr>\n",
       "      <th>50%</th>\n",
       "      <td>1.00</td>\n",
       "      <td>0.00</td>\n",
       "    </tr>\n",
       "    <tr>\n",
       "      <th>75%</th>\n",
       "      <td>473.00</td>\n",
       "      <td>0.00</td>\n",
       "    </tr>\n",
       "    <tr>\n",
       "      <th>max</th>\n",
       "      <td>14327.00</td>\n",
       "      <td>3992.00</td>\n",
       "    </tr>\n",
       "    <tr>\n",
       "      <th rowspan=\"8\" valign=\"top\">FoodCourt</th>\n",
       "      <th>count</th>\n",
       "      <td>4231.00</td>\n",
       "      <td>4279.00</td>\n",
       "    </tr>\n",
       "    <tr>\n",
       "      <th>mean</th>\n",
       "      <td>382.62</td>\n",
       "      <td>532.69</td>\n",
       "    </tr>\n",
       "    <tr>\n",
       "      <th>std</th>\n",
       "      <td>1200.12</td>\n",
       "      <td>1931.31</td>\n",
       "    </tr>\n",
       "    <tr>\n",
       "      <th>min</th>\n",
       "      <td>0.00</td>\n",
       "      <td>0.00</td>\n",
       "    </tr>\n",
       "    <tr>\n",
       "      <th>25%</th>\n",
       "      <td>0.00</td>\n",
       "      <td>0.00</td>\n",
       "    </tr>\n",
       "    <tr>\n",
       "      <th>50%</th>\n",
       "      <td>0.00</td>\n",
       "      <td>0.00</td>\n",
       "    </tr>\n",
       "    <tr>\n",
       "      <th>75%</th>\n",
       "      <td>179.00</td>\n",
       "      <td>0.00</td>\n",
       "    </tr>\n",
       "    <tr>\n",
       "      <th>max</th>\n",
       "      <td>16856.00</td>\n",
       "      <td>29813.00</td>\n",
       "    </tr>\n",
       "    <tr>\n",
       "      <th rowspan=\"8\" valign=\"top\">ShoppingMall</th>\n",
       "      <th>count</th>\n",
       "      <td>4221.00</td>\n",
       "      <td>4264.00</td>\n",
       "    </tr>\n",
       "    <tr>\n",
       "      <th>mean</th>\n",
       "      <td>167.57</td>\n",
       "      <td>179.83</td>\n",
       "    </tr>\n",
       "    <tr>\n",
       "      <th>std</th>\n",
       "      <td>456.53</td>\n",
       "      <td>722.03</td>\n",
       "    </tr>\n",
       "    <tr>\n",
       "      <th>min</th>\n",
       "      <td>0.00</td>\n",
       "      <td>0.00</td>\n",
       "    </tr>\n",
       "    <tr>\n",
       "      <th>25%</th>\n",
       "      <td>0.00</td>\n",
       "      <td>0.00</td>\n",
       "    </tr>\n",
       "    <tr>\n",
       "      <th>50%</th>\n",
       "      <td>0.00</td>\n",
       "      <td>0.00</td>\n",
       "    </tr>\n",
       "    <tr>\n",
       "      <th>75%</th>\n",
       "      <td>95.00</td>\n",
       "      <td>0.00</td>\n",
       "    </tr>\n",
       "    <tr>\n",
       "      <th>max</th>\n",
       "      <td>10705.00</td>\n",
       "      <td>23492.00</td>\n",
       "    </tr>\n",
       "    <tr>\n",
       "      <th rowspan=\"8\" valign=\"top\">Spa</th>\n",
       "      <th>count</th>\n",
       "      <td>4223.00</td>\n",
       "      <td>4287.00</td>\n",
       "    </tr>\n",
       "    <tr>\n",
       "      <th>mean</th>\n",
       "      <td>564.38</td>\n",
       "      <td>61.68</td>\n",
       "    </tr>\n",
       "    <tr>\n",
       "      <th>std</th>\n",
       "      <td>1551.36</td>\n",
       "      <td>262.68</td>\n",
       "    </tr>\n",
       "    <tr>\n",
       "      <th>min</th>\n",
       "      <td>0.00</td>\n",
       "      <td>0.00</td>\n",
       "    </tr>\n",
       "    <tr>\n",
       "      <th>25%</th>\n",
       "      <td>0.00</td>\n",
       "      <td>0.00</td>\n",
       "    </tr>\n",
       "    <tr>\n",
       "      <th>50%</th>\n",
       "      <td>4.00</td>\n",
       "      <td>0.00</td>\n",
       "    </tr>\n",
       "    <tr>\n",
       "      <th>75%</th>\n",
       "      <td>453.50</td>\n",
       "      <td>0.00</td>\n",
       "    </tr>\n",
       "    <tr>\n",
       "      <th>max</th>\n",
       "      <td>22408.00</td>\n",
       "      <td>4103.00</td>\n",
       "    </tr>\n",
       "    <tr>\n",
       "      <th rowspan=\"8\" valign=\"top\">VRDeck</th>\n",
       "      <th>count</th>\n",
       "      <td>4225.00</td>\n",
       "      <td>4280.00</td>\n",
       "    </tr>\n",
       "    <tr>\n",
       "      <th>mean</th>\n",
       "      <td>543.63</td>\n",
       "      <td>69.15</td>\n",
       "    </tr>\n",
       "    <tr>\n",
       "      <th>std</th>\n",
       "      <td>1563.09</td>\n",
       "      <td>291.66</td>\n",
       "    </tr>\n",
       "    <tr>\n",
       "      <th>min</th>\n",
       "      <td>0.00</td>\n",
       "      <td>0.00</td>\n",
       "    </tr>\n",
       "    <tr>\n",
       "      <th>25%</th>\n",
       "      <td>0.00</td>\n",
       "      <td>0.00</td>\n",
       "    </tr>\n",
       "    <tr>\n",
       "      <th>50%</th>\n",
       "      <td>1.00</td>\n",
       "      <td>0.00</td>\n",
       "    </tr>\n",
       "    <tr>\n",
       "      <th>75%</th>\n",
       "      <td>388.00</td>\n",
       "      <td>0.00</td>\n",
       "    </tr>\n",
       "    <tr>\n",
       "      <th>max</th>\n",
       "      <td>24133.00</td>\n",
       "      <td>5063.00</td>\n",
       "    </tr>\n",
       "  </tbody>\n",
       "</table>\n",
       "</div>"
      ],
      "text/plain": [
       "Transported           False     True\n",
       "Age          count  4226.00  4288.00\n",
       "             mean     29.92    27.75\n",
       "             std      13.70    15.15\n",
       "             min       0.00     0.00\n",
       "             25%      21.00    18.00\n",
       "             50%      27.00    26.00\n",
       "             75%      38.00    37.00\n",
       "             max      79.00    78.00\n",
       "RoomService  count  4217.00  4295.00\n",
       "             mean    389.27    63.10\n",
       "             std     875.64   274.81\n",
       "             min       0.00     0.00\n",
       "             25%       0.00     0.00\n",
       "             50%       1.00     0.00\n",
       "             75%     473.00     0.00\n",
       "             max   14327.00  3992.00\n",
       "FoodCourt    count  4231.00  4279.00\n",
       "             mean    382.62   532.69\n",
       "             std    1200.12  1931.31\n",
       "             min       0.00     0.00\n",
       "             25%       0.00     0.00\n",
       "             50%       0.00     0.00\n",
       "             75%     179.00     0.00\n",
       "             max   16856.00 29813.00\n",
       "ShoppingMall count  4221.00  4264.00\n",
       "             mean    167.57   179.83\n",
       "             std     456.53   722.03\n",
       "             min       0.00     0.00\n",
       "             25%       0.00     0.00\n",
       "             50%       0.00     0.00\n",
       "             75%      95.00     0.00\n",
       "             max   10705.00 23492.00\n",
       "Spa          count  4223.00  4287.00\n",
       "             mean    564.38    61.68\n",
       "             std    1551.36   262.68\n",
       "             min       0.00     0.00\n",
       "             25%       0.00     0.00\n",
       "             50%       4.00     0.00\n",
       "             75%     453.50     0.00\n",
       "             max   22408.00  4103.00\n",
       "VRDeck       count  4225.00  4280.00\n",
       "             mean    543.63    69.15\n",
       "             std    1563.09   291.66\n",
       "             min       0.00     0.00\n",
       "             25%       0.00     0.00\n",
       "             50%       1.00     0.00\n",
       "             75%     388.00     0.00\n",
       "             max   24133.00  5063.00"
      ]
     },
     "execution_count": 22,
     "metadata": {},
     "output_type": "execute_result"
    }
   ],
   "source": [
    "# Ahora si con la función discribe miro los principales indicadores estadisticos de cada variable numerica \n",
    "#en funcion a la variable target\n",
    "df.groupby('Transported')[ 'Age','RoomService', 'FoodCourt', 'ShoppingMall', 'Spa', 'VRDeck'].describe().T"
   ]
  },
  {
   "cell_type": "markdown",
   "metadata": {},
   "source": [
    "### Edad"
   ]
  },
  {
   "cell_type": "code",
   "execution_count": 23,
   "metadata": {},
   "outputs": [
    {
     "data": {
      "image/png": "[encoded data removed]",
      "text/plain": [
       "<Figure size 576x576 with 1 Axes>"
      ]
     },
     "metadata": {},
     "output_type": "display_data"
    }
   ],
   "source": [
    "plt.figure(figsize=(8,8))\n",
    "sns.boxplot(data=df, y='Age', x='Transported')\n",
    "plt.xlabel('Edad')\n",
    "plt.title('Distribucion de la variable Age en funcion a target')\n",
    "plt.show()"
   ]
  },
  {
   "cell_type": "markdown",
   "metadata": {},
   "source": [
    "No parece que la edad sea una variable influyente en la determinacion de si el pasajero sera trasladado o no al espacio."
   ]
  },
  {
   "cell_type": "markdown",
   "metadata": {},
   "source": [
    "Probamos transformando la variable edad a categorica."
   ]
  },
  {
   "cell_type": "code",
   "execution_count": 24,
   "metadata": {},
   "outputs": [],
   "source": [
    "def to_categorical(column, bin_size=10, min_cut=20, max_cut=70):\n",
    "    if min_cut is None:\n",
    "        min_cut = int(round(column.min())) - 1\n",
    "    value_max = int(np.ceil(column.max()))\n",
    "    max_cut = min(max_cut, value_max)\n",
    "    intervals = [(x, x + bin_size) for x in range(min_cut, max_cut, bin_size)]\n",
    "    if max_cut != value_max:\n",
    "        intervals.append((max_cut, value_max))\n",
    "    print(intervals)\n",
    "    return pd.cut(column, pd.IntervalIndex.from_tuples(intervals))\n",
    "    if min_cut is None:\n",
    "        min_cut = int(round(column.min())) - 1\n",
    "    value_max = int(np.ceil(column.max()))\n",
    "    max_cut = min(max_cut, value_max)\n",
    "    intervals = [(x, x + bin_size) for x in range(min_cut, max_cut, bin_size)]\n",
    "    if max_cut != value_max:\n",
    "        intervals.append((max_cut, value_max))\n",
    "    print(intervals)\n",
    "    return pd.cut(column, pd.IntervalIndex.from_tuples(intervals))"
   ]
  },
  {
   "cell_type": "code",
   "execution_count": 25,
   "metadata": {},
   "outputs": [
    {
     "name": "stdout",
     "output_type": "stream",
     "text": [
      "[(20, 30), (30, 40), (40, 50), (50, 60), (60, 70), (70, 79)]\n"
     ]
    },
    {
     "data": {
      "text/plain": [
       "(20, 30]    2668\n",
       "(30, 40]    1680\n",
       "(40, 50]     994\n",
       "(50, 60]     517\n",
       "(60, 70]     183\n",
       "(70, 79]      37\n",
       "Name: Age_cat, dtype: int64"
      ]
     },
     "execution_count": 25,
     "metadata": {},
     "output_type": "execute_result"
    }
   ],
   "source": [
    "df['Age_cat'] = to_categorical(df.Age,bin_size=10, min_cut=20, max_cut=70)\n",
    "df['Age_cat'].value_counts()"
   ]
  },
  {
   "cell_type": "code",
   "execution_count": 26,
   "metadata": {},
   "outputs": [
    {
     "data": {
      "image/png": "[encoded data removed]",
      "text/plain": [
       "<Figure size 576x432 with 1 Axes>"
      ]
     },
     "metadata": {},
     "output_type": "display_data"
    }
   ],
   "source": [
    "fig, ax = plt.subplots(figsize=(8,6))\n",
    "sns.countplot(df.Age_cat,hue=df.Transported, palette=\"pastel\")\n",
    "ax.tick_params('x', rotation=45)"
   ]
  },
  {
   "cell_type": "markdown",
   "metadata": {},
   "source": [
    "Podriamos decir que entre los 20 y 40 años hay menor cantidad de pasajeros transportados, pero en muy poca cantidad, luego de ese rango etaria la proporcion es identica."
   ]
  },
  {
   "cell_type": "markdown",
   "metadata": {},
   "source": [
    "### RoomService, FoodCourt, ShoppingMall,Spa, VRDeck"
   ]
  },
  {
   "cell_type": "code",
   "execution_count": 27,
   "metadata": {},
   "outputs": [
    {
     "data": {
      "image/png": "[encoded data removed]",
      "text/plain": [
       "<Figure size 720x1440 with 10 Axes>"
      ]
     },
     "metadata": {},
     "output_type": "display_data"
    }
   ],
   "source": [
    "# Expenditure features\n",
    "var_num=['RoomService', 'FoodCourt', 'ShoppingMall', 'Spa', 'VRDeck']\n",
    "\n",
    "# Plot expenditure features\n",
    "fig=plt.figure(figsize=(10,20))\n",
    "for i, var_name in enumerate(var_num):\n",
    "    # Left plot\n",
    "    ax=fig.add_subplot(5,2,2*i+1)\n",
    "    sns.histplot(data=df, x=var_name, axes=ax, bins=30, kde=False, hue='Transported')\n",
    "    ax.set_title(var_name)\n",
    "    \n",
    "    # Right plot (truncated)\n",
    "    ax=fig.add_subplot(5,2,2*i+2)\n",
    "    sns.histplot(data=df, x=var_name, axes=ax, bins=30, kde=True, hue='Transported')\n",
    "    plt.ylim([0,100])\n",
    "    ax.set_title(var_name)\n",
    "fig.tight_layout()  # Improves appearance a bit\n",
    "plt.show()"
   ]
  },
  {
   "cell_type": "code",
   "execution_count": 28,
   "metadata": {},
   "outputs": [
    {
     "data": {
      "image/png": "[encoded data removed]",
      "text/plain": [
       "<Figure size 864x1800 with 5 Axes>"
      ]
     },
     "metadata": {},
     "output_type": "display_data"
    }
   ],
   "source": [
    "# Expenditure features\n",
    "var_num=['RoomService', 'FoodCourt', 'ShoppingMall', 'Spa', 'VRDeck']\n",
    "\n",
    "# Plot expenditure features\n",
    "fig=plt.figure(figsize=(12,25))\n",
    "for i, var_name in enumerate(var_num):\n",
    "    # Left plot\n",
    "    ax=fig.add_subplot(5,2,2*i+1)\n",
    "    sns.boxenplot(data=df, y=var_name, axes=ax,x='Transported')\n",
    "    ax.set_title(var_name)\n",
    "    \n",
    "fig.tight_layout()  # Improves appearance a bit\n",
    "plt.show()"
   ]
  },
  {
   "cell_type": "markdown",
   "metadata": {},
   "source": [
    "Pareciera que los pasajeros que no son transportados gastan mas en RoomService, Spa y VRDeck."
   ]
  },
  {
   "cell_type": "markdown",
   "metadata": {},
   "source": [
    "### HomePlanet"
   ]
  },
  {
   "cell_type": "code",
   "execution_count": 29,
   "metadata": {},
   "outputs": [
    {
     "data": {
      "image/png": "[encoded data removed]",
      "text/plain": [
       "<Figure size 576x432 with 1 Axes>"
      ]
     },
     "metadata": {},
     "output_type": "display_data"
    }
   ],
   "source": [
    "fig = plt.figure(figsize=(8,6))\n",
    "sns.countplot(df.HomePlanet, hue=df.Transported, palette=\"pastel\")\n",
    "plt.title(\"Frecuencia de pasajeros en funcion al planeta\")\n",
    "plt.show()"
   ]
  },
  {
   "cell_type": "markdown",
   "metadata": {},
   "source": [
    "Si el pasajero es de Europa hay un porcentaje mayor transportado, mientras que si viene de la tierra es menor el porcentaje de los transportados, si viene de Marte hay aproximadamente la misma cantidad de transportados y no trasnportados."
   ]
  },
  {
   "cell_type": "markdown",
   "metadata": {},
   "source": [
    "### CryoSleep"
   ]
  },
  {
   "cell_type": "code",
   "execution_count": 30,
   "metadata": {},
   "outputs": [
    {
     "data": {
      "image/png": "[encoded data removed]",
      "text/plain": [
       "<Figure size 576x432 with 1 Axes>"
      ]
     },
     "metadata": {},
     "output_type": "display_data"
    }
   ],
   "source": [
    "fig = plt.figure(figsize=(8,6))\n",
    "sns.countplot(df.CryoSleep, hue=df.Transported, palette=\"pastel\")\n",
    "plt.title(\"Frecuencia de pasajeros en funcion la variable CryoSleep\")\n",
    "plt.show()"
   ]
  },
  {
   "cell_type": "markdown",
   "metadata": {},
   "source": [
    "Aquellos pasajeros que eligieron entrar en suspension fueron traslados en su mayoria y viceversa, esta variable es muy influyente."
   ]
  },
  {
   "cell_type": "markdown",
   "metadata": {},
   "source": [
    "### Destination"
   ]
  },
  {
   "cell_type": "code",
   "execution_count": 31,
   "metadata": {},
   "outputs": [
    {
     "data": {
      "image/png": "[encoded data removed]",
      "text/plain": [
       "<Figure size 576x432 with 1 Axes>"
      ]
     },
     "metadata": {},
     "output_type": "display_data"
    }
   ],
   "source": [
    "fig = plt.figure(figsize=(8,6))\n",
    "sns.countplot(df.Destination, hue=df.Transported, palette=\"pastel\")\n",
    "plt.title(\"Frecuencia de pasajeros en funcion a la variable Destination\")\n",
    "plt.show()"
   ]
  },
  {
   "cell_type": "markdown",
   "metadata": {},
   "source": [
    "### VIP"
   ]
  },
  {
   "cell_type": "code",
   "execution_count": 32,
   "metadata": {},
   "outputs": [
    {
     "data": {
      "image/png": "[encoded data removed]",
      "text/plain": [
       "<Figure size 576x432 with 1 Axes>"
      ]
     },
     "metadata": {},
     "output_type": "display_data"
    }
   ],
   "source": [
    "fig = plt.figure(figsize=(8,6))\n",
    "sns.countplot(df.VIP, hue=df.Transported, palette=\"pastel\")\n",
    "plt.title(\"Frecuencia de pasajeros en funcion variable VIP\")\n",
    "plt.show()"
   ]
  },
  {
   "cell_type": "markdown",
   "metadata": {},
   "source": [
    "Casi todos los pasajeros que pagaron por servicio VIP fueron traslados y los que no, no fueron traslados."
   ]
  },
  {
   "cell_type": "markdown",
   "metadata": {},
   "source": []
  },
  {
   "cell_type": "markdown",
   "metadata": {},
   "source": [
    "# 5) Feature engineering"
   ]
  },
  {
   "cell_type": "markdown",
   "metadata": {},
   "source": [
    "A partir del id del pasajero obtener si viajo o no con la familia y analizar si esta variable influye o no"
   ]
  },
  {
   "cell_type": "code",
   "execution_count": 33,
   "metadata": {},
   "outputs": [
    {
     "data": {
      "text/plain": [
       "(8693, 15)"
      ]
     },
     "execution_count": 33,
     "metadata": {},
     "output_type": "execute_result"
    }
   ],
   "source": [
    "df.shape"
   ]
  },
  {
   "cell_type": "code",
   "execution_count": 76,
   "metadata": {},
   "outputs": [],
   "source": [
    "df = pd.read_csv('train.csv',sep=',')"
   ]
  },
  {
   "cell_type": "markdown",
   "metadata": {},
   "source": [
    "# 6) Preparado de los datos para los modelos"
   ]
  },
  {
   "cell_type": "markdown",
   "metadata": {},
   "source": [
    "Aca deberiamos tomar una decision sobre los datos nulos, seleccionar variables, aplicar Onehotencoding a las variables categoricas"
   ]
  },
  {
   "cell_type": "markdown",
   "metadata": {},
   "source": [
    "## Eliminado de datos nulos (ver)"
   ]
  },
  {
   "cell_type": "code",
   "execution_count": 77,
   "metadata": {},
   "outputs": [
    {
     "data": {
      "text/plain": [
       "(6606, 14)"
      ]
     },
     "execution_count": 77,
     "metadata": {},
     "output_type": "execute_result"
    }
   ],
   "source": [
    "#Por el momento los elimine!\n",
    "df = df.dropna()\n",
    "df.shape"
   ]
  },
  {
   "cell_type": "code",
   "execution_count": 78,
   "metadata": {},
   "outputs": [
    {
     "data": {
      "text/html": [
       "<div>\n",
       "<style scoped>\n",
       "    .dataframe tbody tr th:only-of-type {\n",
       "        vertical-align: middle;\n",
       "    }\n",
       "\n",
       "    .dataframe tbody tr th {\n",
       "        vertical-align: top;\n",
       "    }\n",
       "\n",
       "    .dataframe thead th {\n",
       "        text-align: right;\n",
       "    }\n",
       "</style>\n",
       "<table border=\"1\" class=\"dataframe\">\n",
       "  <thead>\n",
       "    <tr style=\"text-align: right;\">\n",
       "      <th></th>\n",
       "      <th>PassengerId</th>\n",
       "      <th>HomePlanet</th>\n",
       "      <th>CryoSleep</th>\n",
       "      <th>Cabin</th>\n",
       "      <th>Destination</th>\n",
       "      <th>Age</th>\n",
       "      <th>VIP</th>\n",
       "      <th>RoomService</th>\n",
       "      <th>FoodCourt</th>\n",
       "      <th>ShoppingMall</th>\n",
       "      <th>Spa</th>\n",
       "      <th>VRDeck</th>\n",
       "      <th>Name</th>\n",
       "      <th>Transported</th>\n",
       "    </tr>\n",
       "  </thead>\n",
       "  <tbody>\n",
       "    <tr>\n",
       "      <th>0</th>\n",
       "      <td>0001_01</td>\n",
       "      <td>Europa</td>\n",
       "      <td>False</td>\n",
       "      <td>B/0/P</td>\n",
       "      <td>TRAPPIST-1e</td>\n",
       "      <td>39.00</td>\n",
       "      <td>False</td>\n",
       "      <td>0.00</td>\n",
       "      <td>0.00</td>\n",
       "      <td>0.00</td>\n",
       "      <td>0.00</td>\n",
       "      <td>0.00</td>\n",
       "      <td>Maham Ofracculy</td>\n",
       "      <td>False</td>\n",
       "    </tr>\n",
       "    <tr>\n",
       "      <th>1</th>\n",
       "      <td>0002_01</td>\n",
       "      <td>Earth</td>\n",
       "      <td>False</td>\n",
       "      <td>F/0/S</td>\n",
       "      <td>TRAPPIST-1e</td>\n",
       "      <td>24.00</td>\n",
       "      <td>False</td>\n",
       "      <td>109.00</td>\n",
       "      <td>9.00</td>\n",
       "      <td>25.00</td>\n",
       "      <td>549.00</td>\n",
       "      <td>44.00</td>\n",
       "      <td>Juanna Vines</td>\n",
       "      <td>True</td>\n",
       "    </tr>\n",
       "    <tr>\n",
       "      <th>2</th>\n",
       "      <td>0003_01</td>\n",
       "      <td>Europa</td>\n",
       "      <td>False</td>\n",
       "      <td>A/0/S</td>\n",
       "      <td>TRAPPIST-1e</td>\n",
       "      <td>58.00</td>\n",
       "      <td>True</td>\n",
       "      <td>43.00</td>\n",
       "      <td>3576.00</td>\n",
       "      <td>0.00</td>\n",
       "      <td>6715.00</td>\n",
       "      <td>49.00</td>\n",
       "      <td>Altark Susent</td>\n",
       "      <td>False</td>\n",
       "    </tr>\n",
       "    <tr>\n",
       "      <th>3</th>\n",
       "      <td>0003_02</td>\n",
       "      <td>Europa</td>\n",
       "      <td>False</td>\n",
       "      <td>A/0/S</td>\n",
       "      <td>TRAPPIST-1e</td>\n",
       "      <td>33.00</td>\n",
       "      <td>False</td>\n",
       "      <td>0.00</td>\n",
       "      <td>1283.00</td>\n",
       "      <td>371.00</td>\n",
       "      <td>3329.00</td>\n",
       "      <td>193.00</td>\n",
       "      <td>Solam Susent</td>\n",
       "      <td>False</td>\n",
       "    </tr>\n",
       "    <tr>\n",
       "      <th>4</th>\n",
       "      <td>0004_01</td>\n",
       "      <td>Earth</td>\n",
       "      <td>False</td>\n",
       "      <td>F/1/S</td>\n",
       "      <td>TRAPPIST-1e</td>\n",
       "      <td>16.00</td>\n",
       "      <td>False</td>\n",
       "      <td>303.00</td>\n",
       "      <td>70.00</td>\n",
       "      <td>151.00</td>\n",
       "      <td>565.00</td>\n",
       "      <td>2.00</td>\n",
       "      <td>Willy Santantines</td>\n",
       "      <td>True</td>\n",
       "    </tr>\n",
       "    <tr>\n",
       "      <th>...</th>\n",
       "      <td>...</td>\n",
       "      <td>...</td>\n",
       "      <td>...</td>\n",
       "      <td>...</td>\n",
       "      <td>...</td>\n",
       "      <td>...</td>\n",
       "      <td>...</td>\n",
       "      <td>...</td>\n",
       "      <td>...</td>\n",
       "      <td>...</td>\n",
       "      <td>...</td>\n",
       "      <td>...</td>\n",
       "      <td>...</td>\n",
       "      <td>...</td>\n",
       "    </tr>\n",
       "    <tr>\n",
       "      <th>8688</th>\n",
       "      <td>9276_01</td>\n",
       "      <td>Europa</td>\n",
       "      <td>False</td>\n",
       "      <td>A/98/P</td>\n",
       "      <td>55 Cancri e</td>\n",
       "      <td>41.00</td>\n",
       "      <td>True</td>\n",
       "      <td>0.00</td>\n",
       "      <td>6819.00</td>\n",
       "      <td>0.00</td>\n",
       "      <td>1643.00</td>\n",
       "      <td>74.00</td>\n",
       "      <td>Gravior Noxnuther</td>\n",
       "      <td>False</td>\n",
       "    </tr>\n",
       "    <tr>\n",
       "      <th>8689</th>\n",
       "      <td>9278_01</td>\n",
       "      <td>Earth</td>\n",
       "      <td>True</td>\n",
       "      <td>G/1499/S</td>\n",
       "      <td>PSO J318.5-22</td>\n",
       "      <td>18.00</td>\n",
       "      <td>False</td>\n",
       "      <td>0.00</td>\n",
       "      <td>0.00</td>\n",
       "      <td>0.00</td>\n",
       "      <td>0.00</td>\n",
       "      <td>0.00</td>\n",
       "      <td>Kurta Mondalley</td>\n",
       "      <td>False</td>\n",
       "    </tr>\n",
       "    <tr>\n",
       "      <th>8690</th>\n",
       "      <td>9279_01</td>\n",
       "      <td>Earth</td>\n",
       "      <td>False</td>\n",
       "      <td>G/1500/S</td>\n",
       "      <td>TRAPPIST-1e</td>\n",
       "      <td>26.00</td>\n",
       "      <td>False</td>\n",
       "      <td>0.00</td>\n",
       "      <td>0.00</td>\n",
       "      <td>1872.00</td>\n",
       "      <td>1.00</td>\n",
       "      <td>0.00</td>\n",
       "      <td>Fayey Connon</td>\n",
       "      <td>True</td>\n",
       "    </tr>\n",
       "    <tr>\n",
       "      <th>8691</th>\n",
       "      <td>9280_01</td>\n",
       "      <td>Europa</td>\n",
       "      <td>False</td>\n",
       "      <td>E/608/S</td>\n",
       "      <td>55 Cancri e</td>\n",
       "      <td>32.00</td>\n",
       "      <td>False</td>\n",
       "      <td>0.00</td>\n",
       "      <td>1049.00</td>\n",
       "      <td>0.00</td>\n",
       "      <td>353.00</td>\n",
       "      <td>3235.00</td>\n",
       "      <td>Celeon Hontichre</td>\n",
       "      <td>False</td>\n",
       "    </tr>\n",
       "    <tr>\n",
       "      <th>8692</th>\n",
       "      <td>9280_02</td>\n",
       "      <td>Europa</td>\n",
       "      <td>False</td>\n",
       "      <td>E/608/S</td>\n",
       "      <td>TRAPPIST-1e</td>\n",
       "      <td>44.00</td>\n",
       "      <td>False</td>\n",
       "      <td>126.00</td>\n",
       "      <td>4688.00</td>\n",
       "      <td>0.00</td>\n",
       "      <td>0.00</td>\n",
       "      <td>12.00</td>\n",
       "      <td>Propsh Hontichre</td>\n",
       "      <td>True</td>\n",
       "    </tr>\n",
       "  </tbody>\n",
       "</table>\n",
       "<p>6606 rows × 14 columns</p>\n",
       "</div>"
      ],
      "text/plain": [
       "     PassengerId HomePlanet CryoSleep     Cabin    Destination   Age    VIP  \\\n",
       "0        0001_01     Europa     False     B/0/P    TRAPPIST-1e 39.00  False   \n",
       "1        0002_01      Earth     False     F/0/S    TRAPPIST-1e 24.00  False   \n",
       "2        0003_01     Europa     False     A/0/S    TRAPPIST-1e 58.00   True   \n",
       "3        0003_02     Europa     False     A/0/S    TRAPPIST-1e 33.00  False   \n",
       "4        0004_01      Earth     False     F/1/S    TRAPPIST-1e 16.00  False   \n",
       "...          ...        ...       ...       ...            ...   ...    ...   \n",
       "8688     9276_01     Europa     False    A/98/P    55 Cancri e 41.00   True   \n",
       "8689     9278_01      Earth      True  G/1499/S  PSO J318.5-22 18.00  False   \n",
       "8690     9279_01      Earth     False  G/1500/S    TRAPPIST-1e 26.00  False   \n",
       "8691     9280_01     Europa     False   E/608/S    55 Cancri e 32.00  False   \n",
       "8692     9280_02     Europa     False   E/608/S    TRAPPIST-1e 44.00  False   \n",
       "\n",
       "      RoomService  FoodCourt  ShoppingMall     Spa  VRDeck               Name  \\\n",
       "0            0.00       0.00          0.00    0.00    0.00    Maham Ofracculy   \n",
       "1          109.00       9.00         25.00  549.00   44.00       Juanna Vines   \n",
       "2           43.00    3576.00          0.00 6715.00   49.00      Altark Susent   \n",
       "3            0.00    1283.00        371.00 3329.00  193.00       Solam Susent   \n",
       "4          303.00      70.00        151.00  565.00    2.00  Willy Santantines   \n",
       "...           ...        ...           ...     ...     ...                ...   \n",
       "8688         0.00    6819.00          0.00 1643.00   74.00  Gravior Noxnuther   \n",
       "8689         0.00       0.00          0.00    0.00    0.00    Kurta Mondalley   \n",
       "8690         0.00       0.00       1872.00    1.00    0.00       Fayey Connon   \n",
       "8691         0.00    1049.00          0.00  353.00 3235.00   Celeon Hontichre   \n",
       "8692       126.00    4688.00          0.00    0.00   12.00   Propsh Hontichre   \n",
       "\n",
       "      Transported  \n",
       "0           False  \n",
       "1            True  \n",
       "2           False  \n",
       "3           False  \n",
       "4            True  \n",
       "...           ...  \n",
       "8688        False  \n",
       "8689        False  \n",
       "8690         True  \n",
       "8691        False  \n",
       "8692         True  \n",
       "\n",
       "[6606 rows x 14 columns]"
      ]
     },
     "execution_count": 78,
     "metadata": {},
     "output_type": "execute_result"
    }
   ],
   "source": [
    "df"
   ]
  },
  {
   "cell_type": "markdown",
   "metadata": {},
   "source": [
    "## Algunos cambios en variables "
   ]
  },
  {
   "cell_type": "code",
   "execution_count": 79,
   "metadata": {},
   "outputs": [],
   "source": [
    "#Cambiamos las variables CryoSleep, VIP y Transported\n",
    "df= df.replace(to_replace = [True,False],value = [1,0])"
   ]
  },
  {
   "cell_type": "code",
   "execution_count": 80,
   "metadata": {},
   "outputs": [
    {
     "name": "stdout",
     "output_type": "stream",
     "text": [
      "HomePlanet:  {'Europa', 'Earth', 'Mars'}\n",
      "Destination\t:  {'55 Cancri e', 'TRAPPIST-1e', 'PSO J318.5-22'}\n"
     ]
    }
   ],
   "source": [
    "#Cambiamos la variables Home Planet. Para eso primero vemos los valores que toma\n",
    "print('HomePlanet: ',set(df.HomePlanet.values))\n",
    "print('Destination\t: ',set(df.Destination.values))"
   ]
  },
  {
   "cell_type": "code",
   "execution_count": 81,
   "metadata": {},
   "outputs": [
    {
     "data": {
      "text/html": [
       "<div>\n",
       "<style scoped>\n",
       "    .dataframe tbody tr th:only-of-type {\n",
       "        vertical-align: middle;\n",
       "    }\n",
       "\n",
       "    .dataframe tbody tr th {\n",
       "        vertical-align: top;\n",
       "    }\n",
       "\n",
       "    .dataframe thead th {\n",
       "        text-align: right;\n",
       "    }\n",
       "</style>\n",
       "<table border=\"1\" class=\"dataframe\">\n",
       "  <thead>\n",
       "    <tr style=\"text-align: right;\">\n",
       "      <th></th>\n",
       "      <th>PassengerId</th>\n",
       "      <th>HomePlanet</th>\n",
       "      <th>CryoSleep</th>\n",
       "      <th>Cabin</th>\n",
       "      <th>Destination</th>\n",
       "      <th>Age</th>\n",
       "      <th>VIP</th>\n",
       "      <th>RoomService</th>\n",
       "      <th>FoodCourt</th>\n",
       "      <th>ShoppingMall</th>\n",
       "      <th>Spa</th>\n",
       "      <th>VRDeck</th>\n",
       "      <th>Name</th>\n",
       "      <th>Transported</th>\n",
       "    </tr>\n",
       "  </thead>\n",
       "  <tbody>\n",
       "    <tr>\n",
       "      <th>0</th>\n",
       "      <td>0001_01</td>\n",
       "      <td>1</td>\n",
       "      <td>0</td>\n",
       "      <td>B/0/P</td>\n",
       "      <td>0</td>\n",
       "      <td>39.00</td>\n",
       "      <td>0</td>\n",
       "      <td>0.00</td>\n",
       "      <td>0.00</td>\n",
       "      <td>0.00</td>\n",
       "      <td>0.00</td>\n",
       "      <td>0.00</td>\n",
       "      <td>Maham Ofracculy</td>\n",
       "      <td>0</td>\n",
       "    </tr>\n",
       "    <tr>\n",
       "      <th>1</th>\n",
       "      <td>0002_01</td>\n",
       "      <td>2</td>\n",
       "      <td>0</td>\n",
       "      <td>F/0/S</td>\n",
       "      <td>0</td>\n",
       "      <td>24.00</td>\n",
       "      <td>0</td>\n",
       "      <td>109.00</td>\n",
       "      <td>9.00</td>\n",
       "      <td>25.00</td>\n",
       "      <td>549.00</td>\n",
       "      <td>44.00</td>\n",
       "      <td>Juanna Vines</td>\n",
       "      <td>1</td>\n",
       "    </tr>\n",
       "    <tr>\n",
       "      <th>2</th>\n",
       "      <td>0003_01</td>\n",
       "      <td>1</td>\n",
       "      <td>0</td>\n",
       "      <td>A/0/S</td>\n",
       "      <td>0</td>\n",
       "      <td>58.00</td>\n",
       "      <td>1</td>\n",
       "      <td>43.00</td>\n",
       "      <td>3576.00</td>\n",
       "      <td>0.00</td>\n",
       "      <td>6715.00</td>\n",
       "      <td>49.00</td>\n",
       "      <td>Altark Susent</td>\n",
       "      <td>0</td>\n",
       "    </tr>\n",
       "    <tr>\n",
       "      <th>3</th>\n",
       "      <td>0003_02</td>\n",
       "      <td>1</td>\n",
       "      <td>0</td>\n",
       "      <td>A/0/S</td>\n",
       "      <td>0</td>\n",
       "      <td>33.00</td>\n",
       "      <td>0</td>\n",
       "      <td>0.00</td>\n",
       "      <td>1283.00</td>\n",
       "      <td>371.00</td>\n",
       "      <td>3329.00</td>\n",
       "      <td>193.00</td>\n",
       "      <td>Solam Susent</td>\n",
       "      <td>0</td>\n",
       "    </tr>\n",
       "    <tr>\n",
       "      <th>4</th>\n",
       "      <td>0004_01</td>\n",
       "      <td>2</td>\n",
       "      <td>0</td>\n",
       "      <td>F/1/S</td>\n",
       "      <td>0</td>\n",
       "      <td>16.00</td>\n",
       "      <td>0</td>\n",
       "      <td>303.00</td>\n",
       "      <td>70.00</td>\n",
       "      <td>151.00</td>\n",
       "      <td>565.00</td>\n",
       "      <td>2.00</td>\n",
       "      <td>Willy Santantines</td>\n",
       "      <td>1</td>\n",
       "    </tr>\n",
       "    <tr>\n",
       "      <th>...</th>\n",
       "      <td>...</td>\n",
       "      <td>...</td>\n",
       "      <td>...</td>\n",
       "      <td>...</td>\n",
       "      <td>...</td>\n",
       "      <td>...</td>\n",
       "      <td>...</td>\n",
       "      <td>...</td>\n",
       "      <td>...</td>\n",
       "      <td>...</td>\n",
       "      <td>...</td>\n",
       "      <td>...</td>\n",
       "      <td>...</td>\n",
       "      <td>...</td>\n",
       "    </tr>\n",
       "    <tr>\n",
       "      <th>8688</th>\n",
       "      <td>9276_01</td>\n",
       "      <td>1</td>\n",
       "      <td>0</td>\n",
       "      <td>A/98/P</td>\n",
       "      <td>1</td>\n",
       "      <td>41.00</td>\n",
       "      <td>1</td>\n",
       "      <td>0.00</td>\n",
       "      <td>6819.00</td>\n",
       "      <td>0.00</td>\n",
       "      <td>1643.00</td>\n",
       "      <td>74.00</td>\n",
       "      <td>Gravior Noxnuther</td>\n",
       "      <td>0</td>\n",
       "    </tr>\n",
       "    <tr>\n",
       "      <th>8689</th>\n",
       "      <td>9278_01</td>\n",
       "      <td>2</td>\n",
       "      <td>1</td>\n",
       "      <td>G/1499/S</td>\n",
       "      <td>2</td>\n",
       "      <td>18.00</td>\n",
       "      <td>0</td>\n",
       "      <td>0.00</td>\n",
       "      <td>0.00</td>\n",
       "      <td>0.00</td>\n",
       "      <td>0.00</td>\n",
       "      <td>0.00</td>\n",
       "      <td>Kurta Mondalley</td>\n",
       "      <td>0</td>\n",
       "    </tr>\n",
       "    <tr>\n",
       "      <th>8690</th>\n",
       "      <td>9279_01</td>\n",
       "      <td>2</td>\n",
       "      <td>0</td>\n",
       "      <td>G/1500/S</td>\n",
       "      <td>0</td>\n",
       "      <td>26.00</td>\n",
       "      <td>0</td>\n",
       "      <td>0.00</td>\n",
       "      <td>0.00</td>\n",
       "      <td>1872.00</td>\n",
       "      <td>1.00</td>\n",
       "      <td>0.00</td>\n",
       "      <td>Fayey Connon</td>\n",
       "      <td>1</td>\n",
       "    </tr>\n",
       "    <tr>\n",
       "      <th>8691</th>\n",
       "      <td>9280_01</td>\n",
       "      <td>1</td>\n",
       "      <td>0</td>\n",
       "      <td>E/608/S</td>\n",
       "      <td>1</td>\n",
       "      <td>32.00</td>\n",
       "      <td>0</td>\n",
       "      <td>0.00</td>\n",
       "      <td>1049.00</td>\n",
       "      <td>0.00</td>\n",
       "      <td>353.00</td>\n",
       "      <td>3235.00</td>\n",
       "      <td>Celeon Hontichre</td>\n",
       "      <td>0</td>\n",
       "    </tr>\n",
       "    <tr>\n",
       "      <th>8692</th>\n",
       "      <td>9280_02</td>\n",
       "      <td>1</td>\n",
       "      <td>0</td>\n",
       "      <td>E/608/S</td>\n",
       "      <td>0</td>\n",
       "      <td>44.00</td>\n",
       "      <td>0</td>\n",
       "      <td>126.00</td>\n",
       "      <td>4688.00</td>\n",
       "      <td>0.00</td>\n",
       "      <td>0.00</td>\n",
       "      <td>12.00</td>\n",
       "      <td>Propsh Hontichre</td>\n",
       "      <td>1</td>\n",
       "    </tr>\n",
       "  </tbody>\n",
       "</table>\n",
       "<p>6606 rows × 14 columns</p>\n",
       "</div>"
      ],
      "text/plain": [
       "     PassengerId  HomePlanet  CryoSleep     Cabin  Destination   Age  VIP  \\\n",
       "0        0001_01           1          0     B/0/P            0 39.00    0   \n",
       "1        0002_01           2          0     F/0/S            0 24.00    0   \n",
       "2        0003_01           1          0     A/0/S            0 58.00    1   \n",
       "3        0003_02           1          0     A/0/S            0 33.00    0   \n",
       "4        0004_01           2          0     F/1/S            0 16.00    0   \n",
       "...          ...         ...        ...       ...          ...   ...  ...   \n",
       "8688     9276_01           1          0    A/98/P            1 41.00    1   \n",
       "8689     9278_01           2          1  G/1499/S            2 18.00    0   \n",
       "8690     9279_01           2          0  G/1500/S            0 26.00    0   \n",
       "8691     9280_01           1          0   E/608/S            1 32.00    0   \n",
       "8692     9280_02           1          0   E/608/S            0 44.00    0   \n",
       "\n",
       "      RoomService  FoodCourt  ShoppingMall     Spa  VRDeck               Name  \\\n",
       "0            0.00       0.00          0.00    0.00    0.00    Maham Ofracculy   \n",
       "1          109.00       9.00         25.00  549.00   44.00       Juanna Vines   \n",
       "2           43.00    3576.00          0.00 6715.00   49.00      Altark Susent   \n",
       "3            0.00    1283.00        371.00 3329.00  193.00       Solam Susent   \n",
       "4          303.00      70.00        151.00  565.00    2.00  Willy Santantines   \n",
       "...           ...        ...           ...     ...     ...                ...   \n",
       "8688         0.00    6819.00          0.00 1643.00   74.00  Gravior Noxnuther   \n",
       "8689         0.00       0.00          0.00    0.00    0.00    Kurta Mondalley   \n",
       "8690         0.00       0.00       1872.00    1.00    0.00       Fayey Connon   \n",
       "8691         0.00    1049.00          0.00  353.00 3235.00   Celeon Hontichre   \n",
       "8692       126.00    4688.00          0.00    0.00   12.00   Propsh Hontichre   \n",
       "\n",
       "      Transported  \n",
       "0               0  \n",
       "1               1  \n",
       "2               0  \n",
       "3               0  \n",
       "4               1  \n",
       "...           ...  \n",
       "8688            0  \n",
       "8689            0  \n",
       "8690            1  \n",
       "8691            0  \n",
       "8692            1  \n",
       "\n",
       "[6606 rows x 14 columns]"
      ]
     },
     "execution_count": 81,
     "metadata": {},
     "output_type": "execute_result"
    }
   ],
   "source": [
    "df = df.replace(to_replace = ['Earth','Europa','Mars'],value = [2,1,0])\n",
    "df = df.replace(to_replace = ['PSO J318.5-22', '55 Cancri e','TRAPPIST-1e'],value = [2,1,0])\n",
    "df"
   ]
  },
  {
   "cell_type": "markdown",
   "metadata": {},
   "source": [
    "## Creacion de la variable grupo "
   ]
  },
  {
   "cell_type": "code",
   "execution_count": 82,
   "metadata": {},
   "outputs": [
    {
     "name": "stdout",
     "output_type": "stream",
     "text": [
      "PassengerId:  6606\n",
      "Cabin:  5305\n",
      "Name:  6590\n"
     ]
    },
    {
     "data": {
      "text/html": [
       "<div>\n",
       "<style scoped>\n",
       "    .dataframe tbody tr th:only-of-type {\n",
       "        vertical-align: middle;\n",
       "    }\n",
       "\n",
       "    .dataframe tbody tr th {\n",
       "        vertical-align: top;\n",
       "    }\n",
       "\n",
       "    .dataframe thead th {\n",
       "        text-align: right;\n",
       "    }\n",
       "</style>\n",
       "<table border=\"1\" class=\"dataframe\">\n",
       "  <thead>\n",
       "    <tr style=\"text-align: right;\">\n",
       "      <th></th>\n",
       "      <th>PassengerId</th>\n",
       "      <th>HomePlanet</th>\n",
       "      <th>CryoSleep</th>\n",
       "      <th>Cabin</th>\n",
       "      <th>Destination</th>\n",
       "      <th>Age</th>\n",
       "      <th>VIP</th>\n",
       "      <th>RoomService</th>\n",
       "      <th>FoodCourt</th>\n",
       "      <th>ShoppingMall</th>\n",
       "      <th>Spa</th>\n",
       "      <th>VRDeck</th>\n",
       "      <th>Name</th>\n",
       "      <th>Transported</th>\n",
       "    </tr>\n",
       "  </thead>\n",
       "  <tbody>\n",
       "    <tr>\n",
       "      <th>0</th>\n",
       "      <td>0001_01</td>\n",
       "      <td>1</td>\n",
       "      <td>0</td>\n",
       "      <td>B/0/P</td>\n",
       "      <td>0</td>\n",
       "      <td>39.00</td>\n",
       "      <td>0</td>\n",
       "      <td>0.00</td>\n",
       "      <td>0.00</td>\n",
       "      <td>0.00</td>\n",
       "      <td>0.00</td>\n",
       "      <td>0.00</td>\n",
       "      <td>Maham Ofracculy</td>\n",
       "      <td>0</td>\n",
       "    </tr>\n",
       "    <tr>\n",
       "      <th>1</th>\n",
       "      <td>0002_01</td>\n",
       "      <td>2</td>\n",
       "      <td>0</td>\n",
       "      <td>F/0/S</td>\n",
       "      <td>0</td>\n",
       "      <td>24.00</td>\n",
       "      <td>0</td>\n",
       "      <td>109.00</td>\n",
       "      <td>9.00</td>\n",
       "      <td>25.00</td>\n",
       "      <td>549.00</td>\n",
       "      <td>44.00</td>\n",
       "      <td>Juanna Vines</td>\n",
       "      <td>1</td>\n",
       "    </tr>\n",
       "    <tr>\n",
       "      <th>2</th>\n",
       "      <td>0003_01</td>\n",
       "      <td>1</td>\n",
       "      <td>0</td>\n",
       "      <td>A/0/S</td>\n",
       "      <td>0</td>\n",
       "      <td>58.00</td>\n",
       "      <td>1</td>\n",
       "      <td>43.00</td>\n",
       "      <td>3576.00</td>\n",
       "      <td>0.00</td>\n",
       "      <td>6715.00</td>\n",
       "      <td>49.00</td>\n",
       "      <td>Altark Susent</td>\n",
       "      <td>0</td>\n",
       "    </tr>\n",
       "    <tr>\n",
       "      <th>3</th>\n",
       "      <td>0003_02</td>\n",
       "      <td>1</td>\n",
       "      <td>0</td>\n",
       "      <td>A/0/S</td>\n",
       "      <td>0</td>\n",
       "      <td>33.00</td>\n",
       "      <td>0</td>\n",
       "      <td>0.00</td>\n",
       "      <td>1283.00</td>\n",
       "      <td>371.00</td>\n",
       "      <td>3329.00</td>\n",
       "      <td>193.00</td>\n",
       "      <td>Solam Susent</td>\n",
       "      <td>0</td>\n",
       "    </tr>\n",
       "    <tr>\n",
       "      <th>4</th>\n",
       "      <td>0004_01</td>\n",
       "      <td>2</td>\n",
       "      <td>0</td>\n",
       "      <td>F/1/S</td>\n",
       "      <td>0</td>\n",
       "      <td>16.00</td>\n",
       "      <td>0</td>\n",
       "      <td>303.00</td>\n",
       "      <td>70.00</td>\n",
       "      <td>151.00</td>\n",
       "      <td>565.00</td>\n",
       "      <td>2.00</td>\n",
       "      <td>Willy Santantines</td>\n",
       "      <td>1</td>\n",
       "    </tr>\n",
       "  </tbody>\n",
       "</table>\n",
       "</div>"
      ],
      "text/plain": [
       "  PassengerId  HomePlanet  CryoSleep  Cabin  Destination   Age  VIP  \\\n",
       "0     0001_01           1          0  B/0/P            0 39.00    0   \n",
       "1     0002_01           2          0  F/0/S            0 24.00    0   \n",
       "2     0003_01           1          0  A/0/S            0 58.00    1   \n",
       "3     0003_02           1          0  A/0/S            0 33.00    0   \n",
       "4     0004_01           2          0  F/1/S            0 16.00    0   \n",
       "\n",
       "   RoomService  FoodCourt  ShoppingMall     Spa  VRDeck               Name  \\\n",
       "0         0.00       0.00          0.00    0.00    0.00    Maham Ofracculy   \n",
       "1       109.00       9.00         25.00  549.00   44.00       Juanna Vines   \n",
       "2        43.00    3576.00          0.00 6715.00   49.00      Altark Susent   \n",
       "3         0.00    1283.00        371.00 3329.00  193.00       Solam Susent   \n",
       "4       303.00      70.00        151.00  565.00    2.00  Willy Santantines   \n",
       "\n",
       "   Transported  \n",
       "0            0  \n",
       "1            1  \n",
       "2            0  \n",
       "3            0  \n",
       "4            1  "
      ]
     },
     "execution_count": 82,
     "metadata": {},
     "output_type": "execute_result"
    }
   ],
   "source": [
    "print('PassengerId: ',len(set(df.PassengerId.values)))  #Passenger Id es diferente en todos los casos.\n",
    "print('Cabin: ',len(set(df.Cabin.values)))\n",
    "print('Name: ',len(set(df.Name.values)))\n",
    "df.head()"
   ]
  },
  {
   "cell_type": "code",
   "execution_count": 83,
   "metadata": {},
   "outputs": [],
   "source": [
    "df.insert(0, 'Group', df['PassengerId'].astype(str).str[0:4], allow_duplicates=True)\n",
    "df.insert(1, 'n_passenger', df['PassengerId'].astype(str).str[5:], allow_duplicates=True)\n",
    "#df['Group'] = df['PassengerId'].astype(str).str[0:4]\n",
    "#df['n_passenger'] = df['PassengerId'].astype(str).str[5:]\n",
    "df.Group = pd.to_numeric(df.Group,downcast='integer')\n",
    "df.n_passenger = pd.to_numeric(df.n_passenger,downcast='integer')\n",
    "#del df['PassengerId']"
   ]
  },
  {
   "cell_type": "code",
   "execution_count": 84,
   "metadata": {},
   "outputs": [
    {
     "name": "stdout",
     "output_type": "stream",
     "text": [
      "5015\n"
     ]
    }
   ],
   "source": [
    "print(df.Group.nunique())"
   ]
  },
  {
   "cell_type": "code",
   "execution_count": 85,
   "metadata": {},
   "outputs": [
    {
     "data": {
      "text/html": [
       "<div>\n",
       "<style scoped>\n",
       "    .dataframe tbody tr th:only-of-type {\n",
       "        vertical-align: middle;\n",
       "    }\n",
       "\n",
       "    .dataframe tbody tr th {\n",
       "        vertical-align: top;\n",
       "    }\n",
       "\n",
       "    .dataframe thead th {\n",
       "        text-align: right;\n",
       "    }\n",
       "</style>\n",
       "<table border=\"1\" class=\"dataframe\">\n",
       "  <thead>\n",
       "    <tr style=\"text-align: right;\">\n",
       "      <th></th>\n",
       "      <th>count</th>\n",
       "      <th>unique</th>\n",
       "      <th>top</th>\n",
       "      <th>freq</th>\n",
       "    </tr>\n",
       "    <tr>\n",
       "      <th>Group</th>\n",
       "      <th></th>\n",
       "      <th></th>\n",
       "      <th></th>\n",
       "      <th></th>\n",
       "    </tr>\n",
       "  </thead>\n",
       "  <tbody>\n",
       "    <tr>\n",
       "      <th>4256</th>\n",
       "      <td>8</td>\n",
       "      <td>8</td>\n",
       "      <td>4256_01</td>\n",
       "      <td>1</td>\n",
       "    </tr>\n",
       "    <tr>\n",
       "      <th>9157</th>\n",
       "      <td>7</td>\n",
       "      <td>7</td>\n",
       "      <td>9157_01</td>\n",
       "      <td>1</td>\n",
       "    </tr>\n",
       "    <tr>\n",
       "      <th>3850</th>\n",
       "      <td>7</td>\n",
       "      <td>7</td>\n",
       "      <td>3850_01</td>\n",
       "      <td>1</td>\n",
       "    </tr>\n",
       "    <tr>\n",
       "      <th>4498</th>\n",
       "      <td>7</td>\n",
       "      <td>7</td>\n",
       "      <td>4498_01</td>\n",
       "      <td>1</td>\n",
       "    </tr>\n",
       "    <tr>\n",
       "      <th>4176</th>\n",
       "      <td>7</td>\n",
       "      <td>7</td>\n",
       "      <td>4176_01</td>\n",
       "      <td>1</td>\n",
       "    </tr>\n",
       "    <tr>\n",
       "      <th>...</th>\n",
       "      <td>...</td>\n",
       "      <td>...</td>\n",
       "      <td>...</td>\n",
       "      <td>...</td>\n",
       "    </tr>\n",
       "    <tr>\n",
       "      <th>3504</th>\n",
       "      <td>1</td>\n",
       "      <td>1</td>\n",
       "      <td>3504_01</td>\n",
       "      <td>1</td>\n",
       "    </tr>\n",
       "    <tr>\n",
       "      <th>3506</th>\n",
       "      <td>1</td>\n",
       "      <td>1</td>\n",
       "      <td>3506_01</td>\n",
       "      <td>1</td>\n",
       "    </tr>\n",
       "    <tr>\n",
       "      <th>3511</th>\n",
       "      <td>1</td>\n",
       "      <td>1</td>\n",
       "      <td>3511_01</td>\n",
       "      <td>1</td>\n",
       "    </tr>\n",
       "    <tr>\n",
       "      <th>3512</th>\n",
       "      <td>1</td>\n",
       "      <td>1</td>\n",
       "      <td>3512_01</td>\n",
       "      <td>1</td>\n",
       "    </tr>\n",
       "    <tr>\n",
       "      <th>4634</th>\n",
       "      <td>1</td>\n",
       "      <td>1</td>\n",
       "      <td>4634_01</td>\n",
       "      <td>1</td>\n",
       "    </tr>\n",
       "  </tbody>\n",
       "</table>\n",
       "<p>5015 rows × 4 columns</p>\n",
       "</div>"
      ],
      "text/plain": [
       "      count unique      top freq\n",
       "Group                           \n",
       "4256      8      8  4256_01    1\n",
       "9157      7      7  9157_01    1\n",
       "3850      7      7  3850_01    1\n",
       "4498      7      7  4498_01    1\n",
       "4176      7      7  4176_01    1\n",
       "...     ...    ...      ...  ...\n",
       "3504      1      1  3504_01    1\n",
       "3506      1      1  3506_01    1\n",
       "3511      1      1  3511_01    1\n",
       "3512      1      1  3512_01    1\n",
       "4634      1      1  4634_01    1\n",
       "\n",
       "[5015 rows x 4 columns]"
      ]
     },
     "execution_count": 85,
     "metadata": {},
     "output_type": "execute_result"
    }
   ],
   "source": [
    "df.groupby('Group')[ 'PassengerId'].describe().sort_values('count',ascending=False)"
   ]
  },
  {
   "cell_type": "markdown",
   "metadata": {},
   "source": [
    "Observamos que tenemos 5015 grupos, ya que es una cantidad muy grande de manejar vamos a quedarnos con una columna que indica la cantidad de personas que componen el grupo con el que viajo el pasajero. En caso de ser 1 significa que viajo solo."
   ]
  },
  {
   "cell_type": "code",
   "execution_count": 86,
   "metadata": {},
   "outputs": [
    {
     "data": {
      "text/html": [
       "<div>\n",
       "<style scoped>\n",
       "    .dataframe tbody tr th:only-of-type {\n",
       "        vertical-align: middle;\n",
       "    }\n",
       "\n",
       "    .dataframe tbody tr th {\n",
       "        vertical-align: top;\n",
       "    }\n",
       "\n",
       "    .dataframe thead th {\n",
       "        text-align: right;\n",
       "    }\n",
       "</style>\n",
       "<table border=\"1\" class=\"dataframe\">\n",
       "  <thead>\n",
       "    <tr style=\"text-align: right;\">\n",
       "      <th></th>\n",
       "      <th>Group</th>\n",
       "      <th>count</th>\n",
       "      <th>unique</th>\n",
       "      <th>top</th>\n",
       "      <th>freq</th>\n",
       "    </tr>\n",
       "  </thead>\n",
       "  <tbody>\n",
       "    <tr>\n",
       "      <th>0</th>\n",
       "      <td>4256</td>\n",
       "      <td>8</td>\n",
       "      <td>8</td>\n",
       "      <td>4256_01</td>\n",
       "      <td>1</td>\n",
       "    </tr>\n",
       "    <tr>\n",
       "      <th>1</th>\n",
       "      <td>9157</td>\n",
       "      <td>7</td>\n",
       "      <td>7</td>\n",
       "      <td>9157_01</td>\n",
       "      <td>1</td>\n",
       "    </tr>\n",
       "    <tr>\n",
       "      <th>2</th>\n",
       "      <td>3850</td>\n",
       "      <td>7</td>\n",
       "      <td>7</td>\n",
       "      <td>3850_01</td>\n",
       "      <td>1</td>\n",
       "    </tr>\n",
       "    <tr>\n",
       "      <th>3</th>\n",
       "      <td>4498</td>\n",
       "      <td>7</td>\n",
       "      <td>7</td>\n",
       "      <td>4498_01</td>\n",
       "      <td>1</td>\n",
       "    </tr>\n",
       "    <tr>\n",
       "      <th>4</th>\n",
       "      <td>4176</td>\n",
       "      <td>7</td>\n",
       "      <td>7</td>\n",
       "      <td>4176_01</td>\n",
       "      <td>1</td>\n",
       "    </tr>\n",
       "    <tr>\n",
       "      <th>...</th>\n",
       "      <td>...</td>\n",
       "      <td>...</td>\n",
       "      <td>...</td>\n",
       "      <td>...</td>\n",
       "      <td>...</td>\n",
       "    </tr>\n",
       "    <tr>\n",
       "      <th>5010</th>\n",
       "      <td>3504</td>\n",
       "      <td>1</td>\n",
       "      <td>1</td>\n",
       "      <td>3504_01</td>\n",
       "      <td>1</td>\n",
       "    </tr>\n",
       "    <tr>\n",
       "      <th>5011</th>\n",
       "      <td>3506</td>\n",
       "      <td>1</td>\n",
       "      <td>1</td>\n",
       "      <td>3506_01</td>\n",
       "      <td>1</td>\n",
       "    </tr>\n",
       "    <tr>\n",
       "      <th>5012</th>\n",
       "      <td>3511</td>\n",
       "      <td>1</td>\n",
       "      <td>1</td>\n",
       "      <td>3511_01</td>\n",
       "      <td>1</td>\n",
       "    </tr>\n",
       "    <tr>\n",
       "      <th>5013</th>\n",
       "      <td>3512</td>\n",
       "      <td>1</td>\n",
       "      <td>1</td>\n",
       "      <td>3512_01</td>\n",
       "      <td>1</td>\n",
       "    </tr>\n",
       "    <tr>\n",
       "      <th>5014</th>\n",
       "      <td>4634</td>\n",
       "      <td>1</td>\n",
       "      <td>1</td>\n",
       "      <td>4634_01</td>\n",
       "      <td>1</td>\n",
       "    </tr>\n",
       "  </tbody>\n",
       "</table>\n",
       "<p>5015 rows × 5 columns</p>\n",
       "</div>"
      ],
      "text/plain": [
       "      Group count unique      top freq\n",
       "0      4256     8      8  4256_01    1\n",
       "1      9157     7      7  9157_01    1\n",
       "2      3850     7      7  3850_01    1\n",
       "3      4498     7      7  4498_01    1\n",
       "4      4176     7      7  4176_01    1\n",
       "...     ...   ...    ...      ...  ...\n",
       "5010   3504     1      1  3504_01    1\n",
       "5011   3506     1      1  3506_01    1\n",
       "5012   3511     1      1  3511_01    1\n",
       "5013   3512     1      1  3512_01    1\n",
       "5014   4634     1      1  4634_01    1\n",
       "\n",
       "[5015 rows x 5 columns]"
      ]
     },
     "execution_count": 86,
     "metadata": {},
     "output_type": "execute_result"
    }
   ],
   "source": [
    "df_grupo = df.groupby('Group')[ 'PassengerId'].describe().sort_values('count',ascending=False).reset_index()\n",
    "df_grupo"
   ]
  },
  {
   "cell_type": "code",
   "execution_count": 87,
   "metadata": {},
   "outputs": [],
   "source": [
    "df = df.merge(df_grupo[['count','Group']], on='Group').rename(columns={'count':'tamanio_grupo'})"
   ]
  },
  {
   "cell_type": "code",
   "execution_count": 88,
   "metadata": {},
   "outputs": [
    {
     "data": {
      "text/html": [
       "<div>\n",
       "<style scoped>\n",
       "    .dataframe tbody tr th:only-of-type {\n",
       "        vertical-align: middle;\n",
       "    }\n",
       "\n",
       "    .dataframe tbody tr th {\n",
       "        vertical-align: top;\n",
       "    }\n",
       "\n",
       "    .dataframe thead th {\n",
       "        text-align: right;\n",
       "    }\n",
       "</style>\n",
       "<table border=\"1\" class=\"dataframe\">\n",
       "  <thead>\n",
       "    <tr style=\"text-align: right;\">\n",
       "      <th></th>\n",
       "      <th>PassengerId</th>\n",
       "      <th>tamanio_grupo</th>\n",
       "    </tr>\n",
       "  </thead>\n",
       "  <tbody>\n",
       "    <tr>\n",
       "      <th>3001</th>\n",
       "      <td>4256_04</td>\n",
       "      <td>8</td>\n",
       "    </tr>\n",
       "    <tr>\n",
       "      <th>2998</th>\n",
       "      <td>4256_01</td>\n",
       "      <td>8</td>\n",
       "    </tr>\n",
       "    <tr>\n",
       "      <th>2999</th>\n",
       "      <td>4256_02</td>\n",
       "      <td>8</td>\n",
       "    </tr>\n",
       "    <tr>\n",
       "      <th>3005</th>\n",
       "      <td>4256_08</td>\n",
       "      <td>8</td>\n",
       "    </tr>\n",
       "    <tr>\n",
       "      <th>3004</th>\n",
       "      <td>4256_07</td>\n",
       "      <td>8</td>\n",
       "    </tr>\n",
       "    <tr>\n",
       "      <th>...</th>\n",
       "      <td>...</td>\n",
       "      <td>...</td>\n",
       "    </tr>\n",
       "    <tr>\n",
       "      <th>2731</th>\n",
       "      <td>3915_01</td>\n",
       "      <td>1</td>\n",
       "    </tr>\n",
       "    <tr>\n",
       "      <th>2730</th>\n",
       "      <td>3913_02</td>\n",
       "      <td>1</td>\n",
       "    </tr>\n",
       "    <tr>\n",
       "      <th>2729</th>\n",
       "      <td>3912_01</td>\n",
       "      <td>1</td>\n",
       "    </tr>\n",
       "    <tr>\n",
       "      <th>2728</th>\n",
       "      <td>3911_02</td>\n",
       "      <td>1</td>\n",
       "    </tr>\n",
       "    <tr>\n",
       "      <th>3303</th>\n",
       "      <td>4649_01</td>\n",
       "      <td>1</td>\n",
       "    </tr>\n",
       "  </tbody>\n",
       "</table>\n",
       "<p>6606 rows × 2 columns</p>\n",
       "</div>"
      ],
      "text/plain": [
       "     PassengerId tamanio_grupo\n",
       "3001     4256_04             8\n",
       "2998     4256_01             8\n",
       "2999     4256_02             8\n",
       "3005     4256_08             8\n",
       "3004     4256_07             8\n",
       "...          ...           ...\n",
       "2731     3915_01             1\n",
       "2730     3913_02             1\n",
       "2729     3912_01             1\n",
       "2728     3911_02             1\n",
       "3303     4649_01             1\n",
       "\n",
       "[6606 rows x 2 columns]"
      ]
     },
     "execution_count": 88,
     "metadata": {},
     "output_type": "execute_result"
    }
   ],
   "source": [
    "df[['PassengerId','tamanio_grupo']].sort_values('tamanio_grupo',ascending=False)"
   ]
  },
  {
   "cell_type": "code",
   "execution_count": 89,
   "metadata": {},
   "outputs": [
    {
     "data": {
      "text/plain": [
       "1    4021\n",
       "2    1264\n",
       "3     705\n",
       "4     248\n",
       "5     170\n",
       "6     120\n",
       "7      70\n",
       "8       8\n",
       "Name: tamanio_grupo, dtype: int64"
      ]
     },
     "execution_count": 89,
     "metadata": {},
     "output_type": "execute_result"
    }
   ],
   "source": [
    "df.tamanio_grupo.value_counts()"
   ]
  },
  {
   "cell_type": "markdown",
   "metadata": {},
   "source": [
    "Existen 8 grupos de 8 personas, 70 de 7 y asi..."
   ]
  },
  {
   "cell_type": "code",
   "execution_count": 96,
   "metadata": {},
   "outputs": [
    {
     "data": {
      "image/png": "[encoded data removed]",
      "text/plain": [
       "<Figure size 720x576 with 1 Axes>"
      ]
     },
     "metadata": {},
     "output_type": "display_data"
    }
   ],
   "source": [
    "fig = plt.figure(figsize=(10,8))\n",
    "g= sns.countplot(df.tamanio_grupo, hue=df.Transported)\n",
    "g.set_yscale(\"log\")\n",
    "g.set_title(\"Frecuencia de la variable transported segun tamanio del grupo\")\n",
    "plt.show()"
   ]
  },
  {
   "cell_type": "markdown",
   "metadata": {},
   "source": [
    "Los grupos de 8 personas casi en su totalidad no fueron transportados, en el resto de los grupos tenemos un poco mas de transportados. En el caso de los que viajaron solos existe la misma cantidad de transportados y de no transportados."
   ]
  },
  {
   "cell_type": "markdown",
   "metadata": {},
   "source": [
    "## Separamos variable cabina"
   ]
  },
  {
   "cell_type": "code",
   "execution_count": 97,
   "metadata": {},
   "outputs": [
    {
     "data": {
      "text/html": [
       "<div>\n",
       "<style scoped>\n",
       "    .dataframe tbody tr th:only-of-type {\n",
       "        vertical-align: middle;\n",
       "    }\n",
       "\n",
       "    .dataframe tbody tr th {\n",
       "        vertical-align: top;\n",
       "    }\n",
       "\n",
       "    .dataframe thead th {\n",
       "        text-align: right;\n",
       "    }\n",
       "</style>\n",
       "<table border=\"1\" class=\"dataframe\">\n",
       "  <thead>\n",
       "    <tr style=\"text-align: right;\">\n",
       "      <th></th>\n",
       "      <th>Group</th>\n",
       "      <th>n_passenger</th>\n",
       "      <th>PassengerId</th>\n",
       "      <th>HomePlanet</th>\n",
       "      <th>CryoSleep</th>\n",
       "      <th>Destination</th>\n",
       "      <th>Age</th>\n",
       "      <th>VIP</th>\n",
       "      <th>RoomService</th>\n",
       "      <th>FoodCourt</th>\n",
       "      <th>ShoppingMall</th>\n",
       "      <th>Spa</th>\n",
       "      <th>VRDeck</th>\n",
       "      <th>Name</th>\n",
       "      <th>Transported</th>\n",
       "      <th>tamanio_grupo</th>\n",
       "      <th>Cabin1</th>\n",
       "      <th>Cabin2</th>\n",
       "      <th>Cabin3</th>\n",
       "    </tr>\n",
       "  </thead>\n",
       "  <tbody>\n",
       "    <tr>\n",
       "      <th>0</th>\n",
       "      <td>1</td>\n",
       "      <td>1</td>\n",
       "      <td>0001_01</td>\n",
       "      <td>1</td>\n",
       "      <td>0</td>\n",
       "      <td>0</td>\n",
       "      <td>39.00</td>\n",
       "      <td>0</td>\n",
       "      <td>0.00</td>\n",
       "      <td>0.00</td>\n",
       "      <td>0.00</td>\n",
       "      <td>0.00</td>\n",
       "      <td>0.00</td>\n",
       "      <td>Maham Ofracculy</td>\n",
       "      <td>0</td>\n",
       "      <td>1</td>\n",
       "      <td>B</td>\n",
       "      <td>0</td>\n",
       "      <td>P</td>\n",
       "    </tr>\n",
       "    <tr>\n",
       "      <th>1</th>\n",
       "      <td>2</td>\n",
       "      <td>1</td>\n",
       "      <td>0002_01</td>\n",
       "      <td>2</td>\n",
       "      <td>0</td>\n",
       "      <td>0</td>\n",
       "      <td>24.00</td>\n",
       "      <td>0</td>\n",
       "      <td>109.00</td>\n",
       "      <td>9.00</td>\n",
       "      <td>25.00</td>\n",
       "      <td>549.00</td>\n",
       "      <td>44.00</td>\n",
       "      <td>Juanna Vines</td>\n",
       "      <td>1</td>\n",
       "      <td>1</td>\n",
       "      <td>F</td>\n",
       "      <td>0</td>\n",
       "      <td>S</td>\n",
       "    </tr>\n",
       "    <tr>\n",
       "      <th>2</th>\n",
       "      <td>3</td>\n",
       "      <td>1</td>\n",
       "      <td>0003_01</td>\n",
       "      <td>1</td>\n",
       "      <td>0</td>\n",
       "      <td>0</td>\n",
       "      <td>58.00</td>\n",
       "      <td>1</td>\n",
       "      <td>43.00</td>\n",
       "      <td>3576.00</td>\n",
       "      <td>0.00</td>\n",
       "      <td>6715.00</td>\n",
       "      <td>49.00</td>\n",
       "      <td>Altark Susent</td>\n",
       "      <td>0</td>\n",
       "      <td>2</td>\n",
       "      <td>A</td>\n",
       "      <td>0</td>\n",
       "      <td>S</td>\n",
       "    </tr>\n",
       "    <tr>\n",
       "      <th>3</th>\n",
       "      <td>3</td>\n",
       "      <td>2</td>\n",
       "      <td>0003_02</td>\n",
       "      <td>1</td>\n",
       "      <td>0</td>\n",
       "      <td>0</td>\n",
       "      <td>33.00</td>\n",
       "      <td>0</td>\n",
       "      <td>0.00</td>\n",
       "      <td>1283.00</td>\n",
       "      <td>371.00</td>\n",
       "      <td>3329.00</td>\n",
       "      <td>193.00</td>\n",
       "      <td>Solam Susent</td>\n",
       "      <td>0</td>\n",
       "      <td>2</td>\n",
       "      <td>A</td>\n",
       "      <td>0</td>\n",
       "      <td>S</td>\n",
       "    </tr>\n",
       "    <tr>\n",
       "      <th>4</th>\n",
       "      <td>4</td>\n",
       "      <td>1</td>\n",
       "      <td>0004_01</td>\n",
       "      <td>2</td>\n",
       "      <td>0</td>\n",
       "      <td>0</td>\n",
       "      <td>16.00</td>\n",
       "      <td>0</td>\n",
       "      <td>303.00</td>\n",
       "      <td>70.00</td>\n",
       "      <td>151.00</td>\n",
       "      <td>565.00</td>\n",
       "      <td>2.00</td>\n",
       "      <td>Willy Santantines</td>\n",
       "      <td>1</td>\n",
       "      <td>1</td>\n",
       "      <td>F</td>\n",
       "      <td>1</td>\n",
       "      <td>S</td>\n",
       "    </tr>\n",
       "    <tr>\n",
       "      <th>...</th>\n",
       "      <td>...</td>\n",
       "      <td>...</td>\n",
       "      <td>...</td>\n",
       "      <td>...</td>\n",
       "      <td>...</td>\n",
       "      <td>...</td>\n",
       "      <td>...</td>\n",
       "      <td>...</td>\n",
       "      <td>...</td>\n",
       "      <td>...</td>\n",
       "      <td>...</td>\n",
       "      <td>...</td>\n",
       "      <td>...</td>\n",
       "      <td>...</td>\n",
       "      <td>...</td>\n",
       "      <td>...</td>\n",
       "      <td>...</td>\n",
       "      <td>...</td>\n",
       "      <td>...</td>\n",
       "    </tr>\n",
       "    <tr>\n",
       "      <th>6601</th>\n",
       "      <td>9276</td>\n",
       "      <td>1</td>\n",
       "      <td>9276_01</td>\n",
       "      <td>1</td>\n",
       "      <td>0</td>\n",
       "      <td>1</td>\n",
       "      <td>41.00</td>\n",
       "      <td>1</td>\n",
       "      <td>0.00</td>\n",
       "      <td>6819.00</td>\n",
       "      <td>0.00</td>\n",
       "      <td>1643.00</td>\n",
       "      <td>74.00</td>\n",
       "      <td>Gravior Noxnuther</td>\n",
       "      <td>0</td>\n",
       "      <td>1</td>\n",
       "      <td>A</td>\n",
       "      <td>98</td>\n",
       "      <td>P</td>\n",
       "    </tr>\n",
       "    <tr>\n",
       "      <th>6602</th>\n",
       "      <td>9278</td>\n",
       "      <td>1</td>\n",
       "      <td>9278_01</td>\n",
       "      <td>2</td>\n",
       "      <td>1</td>\n",
       "      <td>2</td>\n",
       "      <td>18.00</td>\n",
       "      <td>0</td>\n",
       "      <td>0.00</td>\n",
       "      <td>0.00</td>\n",
       "      <td>0.00</td>\n",
       "      <td>0.00</td>\n",
       "      <td>0.00</td>\n",
       "      <td>Kurta Mondalley</td>\n",
       "      <td>0</td>\n",
       "      <td>1</td>\n",
       "      <td>G</td>\n",
       "      <td>1499</td>\n",
       "      <td>S</td>\n",
       "    </tr>\n",
       "    <tr>\n",
       "      <th>6603</th>\n",
       "      <td>9279</td>\n",
       "      <td>1</td>\n",
       "      <td>9279_01</td>\n",
       "      <td>2</td>\n",
       "      <td>0</td>\n",
       "      <td>0</td>\n",
       "      <td>26.00</td>\n",
       "      <td>0</td>\n",
       "      <td>0.00</td>\n",
       "      <td>0.00</td>\n",
       "      <td>1872.00</td>\n",
       "      <td>1.00</td>\n",
       "      <td>0.00</td>\n",
       "      <td>Fayey Connon</td>\n",
       "      <td>1</td>\n",
       "      <td>1</td>\n",
       "      <td>G</td>\n",
       "      <td>1500</td>\n",
       "      <td>S</td>\n",
       "    </tr>\n",
       "    <tr>\n",
       "      <th>6604</th>\n",
       "      <td>9280</td>\n",
       "      <td>1</td>\n",
       "      <td>9280_01</td>\n",
       "      <td>1</td>\n",
       "      <td>0</td>\n",
       "      <td>1</td>\n",
       "      <td>32.00</td>\n",
       "      <td>0</td>\n",
       "      <td>0.00</td>\n",
       "      <td>1049.00</td>\n",
       "      <td>0.00</td>\n",
       "      <td>353.00</td>\n",
       "      <td>3235.00</td>\n",
       "      <td>Celeon Hontichre</td>\n",
       "      <td>0</td>\n",
       "      <td>2</td>\n",
       "      <td>E</td>\n",
       "      <td>608</td>\n",
       "      <td>S</td>\n",
       "    </tr>\n",
       "    <tr>\n",
       "      <th>6605</th>\n",
       "      <td>9280</td>\n",
       "      <td>2</td>\n",
       "      <td>9280_02</td>\n",
       "      <td>1</td>\n",
       "      <td>0</td>\n",
       "      <td>0</td>\n",
       "      <td>44.00</td>\n",
       "      <td>0</td>\n",
       "      <td>126.00</td>\n",
       "      <td>4688.00</td>\n",
       "      <td>0.00</td>\n",
       "      <td>0.00</td>\n",
       "      <td>12.00</td>\n",
       "      <td>Propsh Hontichre</td>\n",
       "      <td>1</td>\n",
       "      <td>2</td>\n",
       "      <td>E</td>\n",
       "      <td>608</td>\n",
       "      <td>S</td>\n",
       "    </tr>\n",
       "  </tbody>\n",
       "</table>\n",
       "<p>6606 rows × 19 columns</p>\n",
       "</div>"
      ],
      "text/plain": [
       "      Group  n_passenger PassengerId  HomePlanet  CryoSleep  Destination  \\\n",
       "0         1            1     0001_01           1          0            0   \n",
       "1         2            1     0002_01           2          0            0   \n",
       "2         3            1     0003_01           1          0            0   \n",
       "3         3            2     0003_02           1          0            0   \n",
       "4         4            1     0004_01           2          0            0   \n",
       "...     ...          ...         ...         ...        ...          ...   \n",
       "6601   9276            1     9276_01           1          0            1   \n",
       "6602   9278            1     9278_01           2          1            2   \n",
       "6603   9279            1     9279_01           2          0            0   \n",
       "6604   9280            1     9280_01           1          0            1   \n",
       "6605   9280            2     9280_02           1          0            0   \n",
       "\n",
       "       Age  VIP  RoomService  FoodCourt  ShoppingMall     Spa  VRDeck  \\\n",
       "0    39.00    0         0.00       0.00          0.00    0.00    0.00   \n",
       "1    24.00    0       109.00       9.00         25.00  549.00   44.00   \n",
       "2    58.00    1        43.00    3576.00          0.00 6715.00   49.00   \n",
       "3    33.00    0         0.00    1283.00        371.00 3329.00  193.00   \n",
       "4    16.00    0       303.00      70.00        151.00  565.00    2.00   \n",
       "...    ...  ...          ...        ...           ...     ...     ...   \n",
       "6601 41.00    1         0.00    6819.00          0.00 1643.00   74.00   \n",
       "6602 18.00    0         0.00       0.00          0.00    0.00    0.00   \n",
       "6603 26.00    0         0.00       0.00       1872.00    1.00    0.00   \n",
       "6604 32.00    0         0.00    1049.00          0.00  353.00 3235.00   \n",
       "6605 44.00    0       126.00    4688.00          0.00    0.00   12.00   \n",
       "\n",
       "                   Name  Transported tamanio_grupo Cabin1 Cabin2 Cabin3  \n",
       "0       Maham Ofracculy            0             1      B      0      P  \n",
       "1          Juanna Vines            1             1      F      0      S  \n",
       "2         Altark Susent            0             2      A      0      S  \n",
       "3          Solam Susent            0             2      A      0      S  \n",
       "4     Willy Santantines            1             1      F      1      S  \n",
       "...                 ...          ...           ...    ...    ...    ...  \n",
       "6601  Gravior Noxnuther            0             1      A     98      P  \n",
       "6602    Kurta Mondalley            0             1      G   1499      S  \n",
       "6603       Fayey Connon            1             1      G   1500      S  \n",
       "6604   Celeon Hontichre            0             2      E    608      S  \n",
       "6605   Propsh Hontichre            1             2      E    608      S  \n",
       "\n",
       "[6606 rows x 19 columns]"
      ]
     },
     "execution_count": 97,
     "metadata": {},
     "output_type": "execute_result"
    }
   ],
   "source": [
    "df[['Cabin1', 'Cabin2', 'Cabin3']] = df['Cabin'].str.split('/', expand=True)\n",
    "del df['Cabin']\n",
    "df"
   ]
  },
  {
   "cell_type": "code",
   "execution_count": 98,
   "metadata": {},
   "outputs": [
    {
     "name": "stdout",
     "output_type": "stream",
     "text": [
      "['B' 'F' 'A' 'G' 'E' 'C' 'D' 'T']\n",
      "['0' '1' '2' ... '1894' '1499' '608']\n",
      "['P' 'S']\n"
     ]
    }
   ],
   "source": [
    "print(df.Cabin1.unique())\n",
    "print(df.Cabin2.unique())\n",
    "print(df.Cabin3.unique())"
   ]
  },
  {
   "cell_type": "code",
   "execution_count": 99,
   "metadata": {},
   "outputs": [
    {
     "name": "stdout",
     "output_type": "stream",
     "text": [
      "8\n",
      "1734\n",
      "2\n"
     ]
    }
   ],
   "source": [
    "print(df.Cabin1.nunique())\n",
    "print(df.Cabin2.nunique())\n",
    "print(df.Cabin3.nunique())"
   ]
  },
  {
   "cell_type": "code",
   "execution_count": 102,
   "metadata": {},
   "outputs": [
    {
     "data": {
      "image/png": "[encoded data removed]",
      "text/plain": [
       "<Figure size 720x576 with 1 Axes>"
      ]
     },
     "metadata": {},
     "output_type": "display_data"
    }
   ],
   "source": [
    "fig = plt.figure(figsize=(10,8))\n",
    "g= sns.countplot(df.Cabin1, hue=df.Transported)\n",
    "#g.set_yscale(\"log\")\n",
    "g.set_title(\"Frecuencia de la variable transported segun Cabin1\")\n",
    "plt.show()"
   ]
  },
  {
   "cell_type": "code",
   "execution_count": 103,
   "metadata": {},
   "outputs": [
    {
     "data": {
      "image/png": "[encoded data removed]",
      "text/plain": [
       "<Figure size 720x576 with 1 Axes>"
      ]
     },
     "metadata": {},
     "output_type": "display_data"
    }
   ],
   "source": [
    "fig = plt.figure(figsize=(10,8))\n",
    "g= sns.countplot(df.Cabin3, hue=df.Transported)\n",
    "#g.set_yscale(\"log\")\n",
    "g.set_title(\"Frecuencia de la variable transported segun Cabin3\")\n",
    "plt.show()"
   ]
  },
  {
   "cell_type": "markdown",
   "metadata": {},
   "source": [
    "Hacer alguna trasnformacion de las Cabinas."
   ]
  },
  {
   "cell_type": "code",
   "execution_count": 100,
   "metadata": {},
   "outputs": [],
   "source": [
    "X = df.copy()\n",
    "y = X.Transported\n",
    "del X['Transported']\n",
    "del X['Name']\n",
    "\n",
    "X = X.values"
   ]
  },
  {
   "cell_type": "code",
   "execution_count": 81,
   "metadata": {},
   "outputs": [
    {
     "data": {
      "text/plain": [
       "(array([[1, 1, 1, ..., 'B', '0', 'P'],\n",
       "        [2, 1, 2, ..., 'F', '0', 'S'],\n",
       "        [3, 1, 1, ..., 'A', '0', 'S'],\n",
       "        ...,\n",
       "        [9279, 1, 2, ..., 'G', '1500', 'S'],\n",
       "        [9280, 1, 1, ..., 'E', '608', 'S'],\n",
       "        [9280, 2, 1, ..., 'E', '608', 'S']], dtype=object),\n",
       " 0       False\n",
       " 1        True\n",
       " 2       False\n",
       " 3       False\n",
       " 4        True\n",
       "         ...  \n",
       " 8688    False\n",
       " 8689    False\n",
       " 8690     True\n",
       " 8691    False\n",
       " 8692     True\n",
       " Name: Transported, Length: 6606, dtype: bool)"
      ]
     },
     "execution_count": 81,
     "metadata": {},
     "output_type": "execute_result"
    }
   ],
   "source": [
    "X,y"
   ]
  },
  {
   "cell_type": "markdown",
   "metadata": {},
   "source": []
  }
 ],
 "metadata": {
  "colab": {
   "authorship_tag": "ABX9TyOUVbG4OiL7py5pCd7SudM3",
   "collapsed_sections": [],
   "name": "Challenge_Naranja.ipynb",
   "provenance": []
  },
  "kernelspec": {
   "display_name": "Python 3 (ipykernel)",
   "language": "python",
   "name": "python3"
  },
  "language_info": {
   "codemirror_mode": {
    "name": "ipython",
    "version": 3
   },
   "file_extension": ".py",
   "mimetype": "text/x-python",
   "name": "python",
   "nbconvert_exporter": "python",
   "pygments_lexer": "ipython3",
   "version": "3.9.12"
  },
  "vscode": {
   "interpreter": {
    "hash": "6f9d094a7b0fb906245284d3d3958b08358984861a947ee68dc2465a2dd61944"
   }
  }
 },
 "nbformat": 4,
 "nbformat_minor": 4
}
